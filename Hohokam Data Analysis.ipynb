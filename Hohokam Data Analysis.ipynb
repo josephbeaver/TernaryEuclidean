{
 "cells": [
  {
   "cell_type": "code",
   "execution_count": 1,
   "metadata": {},
   "outputs": [],
   "source": [
    "dataAll <- read.csv(\"maindata.csv\", header=TRUE)"
   ]
  },
  {
   "cell_type": "code",
   "execution_count": 2,
   "metadata": {},
   "outputs": [
    {
     "data": {
      "text/html": [
       "<table>\n",
       "<thead><tr><th scope=col>ï..Site</th><th scope=col>PeriodCode</th><th scope=col>SimpPeriodCode</th><th scope=col>SiteNum</th><th scope=col>Lagomorpha</th><th scope=col>Artiodactyla</th><th scope=col>Rodentia</th></tr></thead>\n",
       "<tbody>\n",
       "\t<tr><td>Los Pozos - Sweetwater Locus</td><td>1                           </td><td>A                           </td><td>AZ AA:12:91 (ASM)           </td><td>0.7846154                   </td><td>0.18461538                  </td><td>0.03076923                  </td></tr>\n",
       "\t<tr><td>Arroyo Site                 </td><td>1                           </td><td>A                           </td><td>AZ AA:3:28 (ASM)            </td><td>0.8955224                   </td><td>0.08955224                  </td><td>0.01492537                  </td></tr>\n",
       "\t<tr><td>Gate Site                   </td><td>1                           </td><td>A                           </td><td>AZ AA:3:8 (ASM)             </td><td>0.9111111                   </td><td>0.02222222                  </td><td>0.06666667                  </td></tr>\n",
       "\t<tr><td>Lookout Site                </td><td>1                           </td><td>A                           </td><td>AZ S:7:30 (ASM)             </td><td>0.9218750                   </td><td>0.01562500                  </td><td>0.06250000                  </td></tr>\n",
       "\t<tr><td>Willow Ridge Site           </td><td>2                           </td><td>A                           </td><td>AZ AA:12:968 (ASM)          </td><td>0.2702703                   </td><td>0.71171171                  </td><td>0.01801802                  </td></tr>\n",
       "\t<tr><td>Valley Farms                </td><td>2                           </td><td>A                           </td><td>?                           </td><td>0.6525424                   </td><td>0.14406780                  </td><td>0.20338983                  </td></tr>\n",
       "</tbody>\n",
       "</table>\n"
      ],
      "text/latex": [
       "\\begin{tabular}{r|lllllll}\n",
       " ï..Site & PeriodCode & SimpPeriodCode & SiteNum & Lagomorpha & Artiodactyla & Rodentia\\\\\n",
       "\\hline\n",
       "\t Los Pozos - Sweetwater Locus & 1                            & A                            & AZ AA:12:91 (ASM)            & 0.7846154                    & 0.18461538                   & 0.03076923                  \\\\\n",
       "\t Arroyo Site                  & 1                            & A                            & AZ AA:3:28 (ASM)             & 0.8955224                    & 0.08955224                   & 0.01492537                  \\\\\n",
       "\t Gate Site                    & 1                            & A                            & AZ AA:3:8 (ASM)              & 0.9111111                    & 0.02222222                   & 0.06666667                  \\\\\n",
       "\t Lookout Site                 & 1                            & A                            & AZ S:7:30 (ASM)              & 0.9218750                    & 0.01562500                   & 0.06250000                  \\\\\n",
       "\t Willow Ridge Site            & 2                            & A                            & AZ AA:12:968 (ASM)           & 0.2702703                    & 0.71171171                   & 0.01801802                  \\\\\n",
       "\t Valley Farms                 & 2                            & A                            & ?                            & 0.6525424                    & 0.14406780                   & 0.20338983                  \\\\\n",
       "\\end{tabular}\n"
      ],
      "text/markdown": [
       "\n",
       "ï..Site | PeriodCode | SimpPeriodCode | SiteNum | Lagomorpha | Artiodactyla | Rodentia | \n",
       "|---|---|---|---|---|---|\n",
       "| Los Pozos - Sweetwater Locus | 1                            | A                            | AZ AA:12:91 (ASM)            | 0.7846154                    | 0.18461538                   | 0.03076923                   | \n",
       "| Arroyo Site                  | 1                            | A                            | AZ AA:3:28 (ASM)             | 0.8955224                    | 0.08955224                   | 0.01492537                   | \n",
       "| Gate Site                    | 1                            | A                            | AZ AA:3:8 (ASM)              | 0.9111111                    | 0.02222222                   | 0.06666667                   | \n",
       "| Lookout Site                 | 1                            | A                            | AZ S:7:30 (ASM)              | 0.9218750                    | 0.01562500                   | 0.06250000                   | \n",
       "| Willow Ridge Site            | 2                            | A                            | AZ AA:12:968 (ASM)           | 0.2702703                    | 0.71171171                   | 0.01801802                   | \n",
       "| Valley Farms                 | 2                            | A                            | ?                            | 0.6525424                    | 0.14406780                   | 0.20338983                   | \n",
       "\n",
       "\n"
      ],
      "text/plain": [
       "  ï..Site                      PeriodCode SimpPeriodCode SiteNum           \n",
       "1 Los Pozos - Sweetwater Locus 1          A              AZ AA:12:91 (ASM) \n",
       "2 Arroyo Site                  1          A              AZ AA:3:28 (ASM)  \n",
       "3 Gate Site                    1          A              AZ AA:3:8 (ASM)   \n",
       "4 Lookout Site                 1          A              AZ S:7:30 (ASM)   \n",
       "5 Willow Ridge Site            2          A              AZ AA:12:968 (ASM)\n",
       "6 Valley Farms                 2          A              ?                 \n",
       "  Lagomorpha Artiodactyla Rodentia  \n",
       "1 0.7846154  0.18461538   0.03076923\n",
       "2 0.8955224  0.08955224   0.01492537\n",
       "3 0.9111111  0.02222222   0.06666667\n",
       "4 0.9218750  0.01562500   0.06250000\n",
       "5 0.2702703  0.71171171   0.01801802\n",
       "6 0.6525424  0.14406780   0.20338983"
      ]
     },
     "metadata": {},
     "output_type": "display_data"
    }
   ],
   "source": [
    "head(dataAll)"
   ]
  },
  {
   "cell_type": "markdown",
   "metadata": {},
   "source": [
    "### Full Data Centroid:"
   ]
  },
  {
   "cell_type": "code",
   "execution_count": 3,
   "metadata": {},
   "outputs": [
    {
     "data": {
      "text/html": [
       "<ol class=list-inline>\n",
       "\t<li>0.771892468041322</li>\n",
       "\t<li>0.121487570454545</li>\n",
       "\t<li>0.106619961471074</li>\n",
       "</ol>\n"
      ],
      "text/latex": [
       "\\begin{enumerate*}\n",
       "\\item 0.771892468041322\n",
       "\\item 0.121487570454545\n",
       "\\item 0.106619961471074\n",
       "\\end{enumerate*}\n"
      ],
      "text/markdown": [
       "1. 0.771892468041322\n",
       "2. 0.121487570454545\n",
       "3. 0.106619961471074\n",
       "\n",
       "\n"
      ],
      "text/plain": [
       "[1] 0.7718925 0.1214876 0.1066200"
      ]
     },
     "metadata": {},
     "output_type": "display_data"
    }
   ],
   "source": [
    "centroidTotal = c(mean(dataAll$Lagomorpha), mean(dataAll$Artiodactyla), mean(dataAll$Rodentia))\n",
    "centroidTotal"
   ]
  },
  {
   "cell_type": "code",
   "execution_count": 4,
   "metadata": {},
   "outputs": [],
   "source": [
    "periodA = subset(dataAll, SimpPeriodCode == \"A\")"
   ]
  },
  {
   "cell_type": "code",
   "execution_count": 5,
   "metadata": {},
   "outputs": [],
   "source": [
    "periodB = subset(dataAll, SimpPeriodCode == \"B\")"
   ]
  },
  {
   "cell_type": "code",
   "execution_count": 6,
   "metadata": {},
   "outputs": [],
   "source": [
    "periodC = subset(dataAll, SimpPeriodCode == \"C\")"
   ]
  },
  {
   "cell_type": "code",
   "execution_count": 7,
   "metadata": {},
   "outputs": [],
   "source": [
    "periodD = subset(dataAll, SimpPeriodCode == \"D\")"
   ]
  },
  {
   "cell_type": "markdown",
   "metadata": {},
   "source": [
    "### Middle and Late Archaic Centroid:"
   ]
  },
  {
   "cell_type": "code",
   "execution_count": 8,
   "metadata": {},
   "outputs": [
    {
     "data": {
      "text/html": [
       "<ol class=list-inline>\n",
       "\t<li>0.81422837435</li>\n",
       "\t<li>0.13074305235</li>\n",
       "\t<li>0.0550285732</li>\n",
       "</ol>\n"
      ],
      "text/latex": [
       "\\begin{enumerate*}\n",
       "\\item 0.81422837435\n",
       "\\item 0.13074305235\n",
       "\\item 0.0550285732\n",
       "\\end{enumerate*}\n"
      ],
      "text/markdown": [
       "1. 0.81422837435\n",
       "2. 0.13074305235\n",
       "3. 0.0550285732\n",
       "\n",
       "\n"
      ],
      "text/plain": [
       "[1] 0.81422837 0.13074305 0.05502857"
      ]
     },
     "metadata": {},
     "output_type": "display_data"
    }
   ],
   "source": [
    "centroidA = c(mean(periodA$Lagomorpha), mean(periodA$Artiodactyla), mean(periodA$Rodentia))\n",
    "centroidA"
   ]
  },
  {
   "cell_type": "markdown",
   "metadata": {},
   "source": [
    "### Pioneer, Early Ceramic, and Colonial Centroid:"
   ]
  },
  {
   "cell_type": "code",
   "execution_count": 9,
   "metadata": {},
   "outputs": [
    {
     "data": {
      "text/html": [
       "<ol class=list-inline>\n",
       "\t<li>0.840610024</li>\n",
       "\t<li>0.0694007429259259</li>\n",
       "\t<li>0.089989233037037</li>\n",
       "</ol>\n"
      ],
      "text/latex": [
       "\\begin{enumerate*}\n",
       "\\item 0.840610024\n",
       "\\item 0.0694007429259259\n",
       "\\item 0.089989233037037\n",
       "\\end{enumerate*}\n"
      ],
      "text/markdown": [
       "1. 0.840610024\n",
       "2. 0.0694007429259259\n",
       "3. 0.089989233037037\n",
       "\n",
       "\n"
      ],
      "text/plain": [
       "[1] 0.84061002 0.06940074 0.08998923"
      ]
     },
     "metadata": {},
     "output_type": "display_data"
    }
   ],
   "source": [
    "centroidB = c(mean(periodB$Lagomorpha), mean(periodB$Artiodactyla), mean(periodB$Rodentia))\n",
    "centroidB"
   ]
  },
  {
   "cell_type": "markdown",
   "metadata": {},
   "source": [
    "### Sedentary Centroid:"
   ]
  },
  {
   "cell_type": "code",
   "execution_count": 10,
   "metadata": {},
   "outputs": [
    {
     "data": {
      "text/html": [
       "<ol class=list-inline>\n",
       "\t<li>0.72166386516129</li>\n",
       "\t<li>0.141514930516129</li>\n",
       "\t<li>0.136821204258065</li>\n",
       "</ol>\n"
      ],
      "text/latex": [
       "\\begin{enumerate*}\n",
       "\\item 0.72166386516129\n",
       "\\item 0.141514930516129\n",
       "\\item 0.136821204258065\n",
       "\\end{enumerate*}\n"
      ],
      "text/markdown": [
       "1. 0.72166386516129\n",
       "2. 0.141514930516129\n",
       "3. 0.136821204258065\n",
       "\n",
       "\n"
      ],
      "text/plain": [
       "[1] 0.7216639 0.1415149 0.1368212"
      ]
     },
     "metadata": {},
     "output_type": "display_data"
    }
   ],
   "source": [
    "centroidC = c(mean(periodC$Lagomorpha), mean(periodC$Artiodactyla), mean(periodC$Rodentia))\n",
    "centroidC"
   ]
  },
  {
   "cell_type": "markdown",
   "metadata": {},
   "source": [
    "### Classic Centroid:"
   ]
  },
  {
   "cell_type": "code",
   "execution_count": 11,
   "metadata": {},
   "outputs": [
    {
     "data": {
      "text/html": [
       "<ol class=list-inline>\n",
       "\t<li>0.745264434372093</li>\n",
       "\t<li>0.135450048209302</li>\n",
       "\t<li>0.11928551744186</li>\n",
       "</ol>\n"
      ],
      "text/latex": [
       "\\begin{enumerate*}\n",
       "\\item 0.745264434372093\n",
       "\\item 0.135450048209302\n",
       "\\item 0.11928551744186\n",
       "\\end{enumerate*}\n"
      ],
      "text/markdown": [
       "1. 0.745264434372093\n",
       "2. 0.135450048209302\n",
       "3. 0.11928551744186\n",
       "\n",
       "\n"
      ],
      "text/plain": [
       "[1] 0.7452644 0.1354500 0.1192855"
      ]
     },
     "metadata": {},
     "output_type": "display_data"
    }
   ],
   "source": [
    "centroidD = c(mean(periodD$Lagomorpha), mean(periodD$Artiodactyla), mean(periodD$Rodentia))\n",
    "centroidD"
   ]
  },
  {
   "cell_type": "code",
   "execution_count": 12,
   "metadata": {},
   "outputs": [
    {
     "name": "stderr",
     "output_type": "stream",
     "text": [
      "Loading required package: ggplot2\n",
      "--\n",
      "Consider donating at: http://ggtern.com\n",
      "Even small amounts (say $10-50) are very much appreciated!\n",
      "Remember to cite, run citation(package = 'ggtern') for further info.\n",
      "--\n",
      "\n",
      "Attaching package: 'ggtern'\n",
      "\n",
      "The following objects are masked from 'package:ggplot2':\n",
      "\n",
      "    aes, annotate, calc_element, ggplot, ggplot_build, ggplot_gtable,\n",
      "    ggplotGrob, ggsave, layer_data, layer_grob, layer_scales, theme,\n",
      "    theme_bw, theme_classic, theme_dark, theme_get, theme_gray,\n",
      "    theme_light, theme_linedraw, theme_minimal, theme_set, theme_void\n",
      "\n"
     ]
    }
   ],
   "source": [
    "library(\"ggtern\")\n",
    "options(warn = -1)  #The stuff below produces an insane amount of warning messages - be careful that real problems aren't being hidden by this!"
   ]
  },
  {
   "cell_type": "markdown",
   "metadata": {},
   "source": [
    "### Full Dataset Ternary Plot"
   ]
  },
  {
   "cell_type": "code",
   "execution_count": 13,
   "metadata": {},
   "outputs": [
    {
     "data": {},
     "metadata": {},
     "output_type": "display_data"
    },
    {
     "data": {
      "image/png": "[encoded data removed]",
      "text/plain": [
       "plot without title"
      ]
     },
     "metadata": {},
     "output_type": "display_data"
    }
   ],
   "source": [
    "fullPlot <- ggtern(data=dataAll,aes(Artiodactyla, Rodentia, Lagomorpha)) + \n",
    "  geom_point(alpha = .3, size=2) +\n",
    "  scale_shape_identity() +\n",
    "  theme_linedraw(base_size = 14, base_family = \"\") +\n",
    "  scale_T_continuous(name = \"\", limits = c(0,1), breaks = c(0, .5, 1), minor_breaks = NULL, labels = c(\"0\", \"50\", \"100\")) +\n",
    "  scale_R_continuous(name = \"\", limits = c(0,1), breaks = c(0, .5, 1), minor_breaks = NULL, labels = c(\"0\", \"50\", \"100\")) +\n",
    "  scale_L_continuous(name = \"\", limits = c(0,1), breaks = c(0, .5, 1), minor_breaks = NULL, labels = c(\"0\", \"50\", \"100\")) +\n",
    "  Tarrowlab(\"% Rodentia\") + Rarrowlab(\"% Lagomorpha\") + Larrowlab(\"% Artiodactyla\") + theme_showarrows()\n",
    "fullPlot"
   ]
  },
  {
   "cell_type": "code",
   "execution_count": 14,
   "metadata": {},
   "outputs": [
    {
     "name": "stderr",
     "output_type": "stream",
     "text": [
      "Saving 6.67 x 6.67 in image\n"
     ]
    },
    {
     "data": {
      "image/png": "[encoded data removed]",
      "text/plain": [
       "plot without title"
      ]
     },
     "metadata": {},
     "output_type": "display_data"
    }
   ],
   "source": [
    "sidebyside = grid.arrange(fullPlot, fullPlot, nrow=1)\n",
    "ggsave(\"fulldata.svg\", plot=sidebyside, device=\"svg\")"
   ]
  },
  {
   "cell_type": "code",
   "execution_count": 15,
   "metadata": {},
   "outputs": [
    {
     "data": {
      "text/html": [
       "<table>\n",
       "<thead><tr><th scope=col>ps</th><th scope=col>Artiodactyla</th><th scope=col>Rodentia</th><th scope=col>Lagomorpha</th></tr></thead>\n",
       "<tbody>\n",
       "\t<tr><td>A         </td><td>0.13074305</td><td>0.05502857</td><td>0.8142284 </td></tr>\n",
       "\t<tr><td>B         </td><td>0.06940074</td><td>0.08998923</td><td>0.8406100 </td></tr>\n",
       "\t<tr><td>C         </td><td>0.14151493</td><td>0.13682120</td><td>0.7216639 </td></tr>\n",
       "\t<tr><td>D         </td><td>0.13545005</td><td>0.11928552</td><td>0.7452644 </td></tr>\n",
       "\t<tr><td>T         </td><td>0.12148757</td><td>0.10661996</td><td>0.7718925 </td></tr>\n",
       "</tbody>\n",
       "</table>\n"
      ],
      "text/latex": [
       "\\begin{tabular}{r|llll}\n",
       " ps & Artiodactyla & Rodentia & Lagomorpha\\\\\n",
       "\\hline\n",
       "\t A          & 0.13074305 & 0.05502857 & 0.8142284 \\\\\n",
       "\t B          & 0.06940074 & 0.08998923 & 0.8406100 \\\\\n",
       "\t C          & 0.14151493 & 0.13682120 & 0.7216639 \\\\\n",
       "\t D          & 0.13545005 & 0.11928552 & 0.7452644 \\\\\n",
       "\t T          & 0.12148757 & 0.10661996 & 0.7718925 \\\\\n",
       "\\end{tabular}\n"
      ],
      "text/markdown": [
       "\n",
       "ps | Artiodactyla | Rodentia | Lagomorpha | \n",
       "|---|---|---|---|---|\n",
       "| A          | 0.13074305 | 0.05502857 | 0.8142284  | \n",
       "| B          | 0.06940074 | 0.08998923 | 0.8406100  | \n",
       "| C          | 0.14151493 | 0.13682120 | 0.7216639  | \n",
       "| D          | 0.13545005 | 0.11928552 | 0.7452644  | \n",
       "| T          | 0.12148757 | 0.10661996 | 0.7718925  | \n",
       "\n",
       "\n"
      ],
      "text/plain": [
       "  ps Artiodactyla Rodentia   Lagomorpha\n",
       "1 A  0.13074305   0.05502857 0.8142284 \n",
       "2 B  0.06940074   0.08998923 0.8406100 \n",
       "3 C  0.14151493   0.13682120 0.7216639 \n",
       "4 D  0.13545005   0.11928552 0.7452644 \n",
       "5 T  0.12148757   0.10661996 0.7718925 "
      ]
     },
     "metadata": {},
     "output_type": "display_data"
    }
   ],
   "source": [
    "ps = c(\"A\", \"B\", \"C\", \"D\", \"T\")\n",
    "Lagomorpha = c(centroidA[1], centroidB[1], centroidC[1], centroidD[1], centroidTotal[1])\n",
    "Artiodactyla = c(centroidA[2], centroidB[2], centroidC[2], centroidD[2], centroidTotal[2])\n",
    "Rodentia = c(centroidA[3], centroidB[3], centroidC[3], centroidD[3], centroidTotal[3])\n",
    "dfCentroids = data.frame(ps, Artiodactyla, Rodentia, Lagomorpha)\n",
    "dfCentroids"
   ]
  },
  {
   "cell_type": "markdown",
   "metadata": {},
   "source": [
    "### Centroids for time periods (and overall) Plot"
   ]
  },
  {
   "cell_type": "code",
   "execution_count": 16,
   "metadata": {},
   "outputs": [],
   "source": [
    "centroid_main = ggtern(data=dfCentroids,aes(Artiodactyla, Rodentia, Lagomorpha, label=ps)) + \n",
    "  geom_point(alpha = .3, size=2) +\n",
    "  theme_linedraw(base_size = 14, base_family = \"\") +\n",
    "  scale_T_continuous(name = \"\", limits = c(0,1), breaks = c(0, .5, 1), minor_breaks = NULL, labels = c(\"0\", \"50\", \"100\")) +\n",
    "  scale_R_continuous(name = \"\", limits = c(0,1), breaks = c(0, .5, 1), minor_breaks = NULL, labels = c(\"0\", \"50\", \"100\")) +\n",
    "  scale_L_continuous(name = \"\", limits = c(0,1), breaks = c(0, .5, 1), minor_breaks = NULL, labels = c(\"0\", \"50\", \"100\")) +\n",
    "  Tarrowlab(\"% Rodentia\") + Rarrowlab(\"% Lagomorpha\") + Larrowlab(\"% Artiodactyla\") + theme_showarrows()"
   ]
  },
  {
   "cell_type": "code",
   "execution_count": 17,
   "metadata": {},
   "outputs": [],
   "source": [
    "centroid_zoom = ggtern(data=dfCentroids,aes(Artiodactyla, Rodentia, Lagomorpha, label=ps)) + \n",
    "  geom_point(alpha = .3, size=3) +\n",
    "  theme_linedraw(base_size = 14, base_family = \"\") +\n",
    "  scale_T_continuous(name = \"\", limits = c(0,.5), breaks = c(0, .5), minor_breaks = NULL, labels = c(\"0\", \"50\")) +\n",
    "  scale_R_continuous(name = \"\", limits = c(.5,1), breaks = c(.5, 1), minor_breaks = NULL, labels = c(\"50\", \"100\")) +\n",
    "  scale_L_continuous(name = \"\", limits = c(0,.5), breaks = c(0, .5), minor_breaks = NULL, labels = c(\"0\", \"50\")) +\n",
    "  Tarrowlab(\"% Rodentia\") + Rarrowlab(\"% Lagomorpha\") + Larrowlab(\"% Artiodactyla\") + theme_showarrows()"
   ]
  },
  {
   "cell_type": "code",
   "execution_count": 18,
   "metadata": {},
   "outputs": [
    {
     "data": {
      "image/png": "[encoded data removed]",
      "text/plain": [
       "plot without title"
      ]
     },
     "metadata": {},
     "output_type": "display_data"
    }
   ],
   "source": [
    "sidebyside = grid.arrange(centroid_main, centroid_zoom, nrow=1)"
   ]
  },
  {
   "cell_type": "code",
   "execution_count": 19,
   "metadata": {},
   "outputs": [
    {
     "name": "stderr",
     "output_type": "stream",
     "text": [
      "Saving 6.67 x 6.67 in image\n"
     ]
    }
   ],
   "source": [
    "ggsave(\"centroids.svg\", plot=sidebyside, device=\"svg\")"
   ]
  },
  {
   "cell_type": "markdown",
   "metadata": {},
   "source": [
    "### Time Period Plots"
   ]
  },
  {
   "cell_type": "code",
   "execution_count": 20,
   "metadata": {},
   "outputs": [
    {
     "data": {},
     "metadata": {},
     "output_type": "display_data"
    },
    {
     "data": {
      "image/png": "[encoded data removed]",
      "text/plain": [
       "plot without title"
      ]
     },
     "metadata": {},
     "output_type": "display_data"
    }
   ],
   "source": [
    "ggtern(data=dataAll,aes(Artiodactyla, Rodentia, Lagomorpha)) + \n",
    "  geom_point(alpha = .3, size=2) +\n",
    "  facet_wrap(\"SimpPeriodCode\") +\n",
    "  theme_linedraw(base_size = 14, base_family = \"\") +\n",
    "  scale_T_continuous(name = \"\", limits = c(0,1), breaks = c(0, .5, 1), minor_breaks = NULL, labels = c(\"0\", \"50\", \"100\")) +\n",
    "  scale_R_continuous(name = \"\", limits = c(0,1), breaks = c(0, .5, 1), minor_breaks = NULL, labels = c(\"0\", \"50\", \"100\")) +\n",
    "  scale_L_continuous(name = \"\", limits = c(0,1), breaks = c(0, .5, 1), minor_breaks = NULL, labels = c(\"0\", \"50\", \"100\")) +\n",
    "  Tarrowlab(\"% Rodentia\") + Rarrowlab(\"% Lagomorpha\") + Larrowlab(\"% Artiodactyla\") + theme_showarrows()\n"
   ]
  },
  {
   "cell_type": "code",
   "execution_count": 21,
   "metadata": {},
   "outputs": [
    {
     "name": "stderr",
     "output_type": "stream",
     "text": [
      "Saving 6.67 x 6.67 in image\n"
     ]
    }
   ],
   "source": [
    "ggsave(\"time_periods.svg\", plot=sidebyside, device=\"svg\")"
   ]
  },
  {
   "cell_type": "markdown",
   "metadata": {},
   "source": [
    "## Add distance from centroid column"
   ]
  },
  {
   "cell_type": "code",
   "execution_count": 22,
   "metadata": {},
   "outputs": [],
   "source": [
    "dataAll$distance <- sqrt((dataAll$Lagomorpha - centroidTotal[1])^2 + (dataAll$Artiodactyla - centroidTotal[2])^2 + (dataAll$Rodentia - centroidTotal[3])^2)"
   ]
  },
  {
   "cell_type": "code",
   "execution_count": 23,
   "metadata": {},
   "outputs": [
    {
     "data": {
      "text/html": [
       "<table>\n",
       "<thead><tr><th scope=col>ï..Site</th><th scope=col>PeriodCode</th><th scope=col>SimpPeriodCode</th><th scope=col>SiteNum</th><th scope=col>Lagomorpha</th><th scope=col>Artiodactyla</th><th scope=col>Rodentia</th><th scope=col>distance</th></tr></thead>\n",
       "<tbody>\n",
       "\t<tr><td>Los Pozos - Sweetwater Locus</td><td>1                           </td><td>A                           </td><td>AZ AA:12:91 (ASM)           </td><td>0.7846154                   </td><td>0.18461538                  </td><td>0.03076923                  </td><td>0.09950039                  </td></tr>\n",
       "\t<tr><td>Arroyo Site                 </td><td>1                           </td><td>A                           </td><td>AZ AA:3:28 (ASM)            </td><td>0.8955224                   </td><td>0.08955224                  </td><td>0.01492537                  </td><td>0.15720089                  </td></tr>\n",
       "\t<tr><td>Gate Site                   </td><td>1                           </td><td>A                           </td><td>AZ AA:3:8 (ASM)             </td><td>0.9111111                   </td><td>0.02222222                  </td><td>0.06666667                  </td><td>0.17558959                  </td></tr>\n",
       "\t<tr><td>Lookout Site                </td><td>1                           </td><td>A                           </td><td>AZ S:7:30 (ASM)             </td><td>0.9218750                   </td><td>0.01562500                  </td><td>0.06250000                  </td><td>0.18880735                  </td></tr>\n",
       "\t<tr><td>Willow Ridge Site           </td><td>2                           </td><td>A                           </td><td>AZ AA:12:968 (ASM)          </td><td>0.2702703                   </td><td>0.71171171                  </td><td>0.01801802                  </td><td>0.77964073                  </td></tr>\n",
       "\t<tr><td>Valley Farms                </td><td>2                           </td><td>A                           </td><td>?                           </td><td>0.6525424                   </td><td>0.14406780                  </td><td>0.20338983                  </td><td>0.15530203                  </td></tr>\n",
       "</tbody>\n",
       "</table>\n"
      ],
      "text/latex": [
       "\\begin{tabular}{r|llllllll}\n",
       " ï..Site & PeriodCode & SimpPeriodCode & SiteNum & Lagomorpha & Artiodactyla & Rodentia & distance\\\\\n",
       "\\hline\n",
       "\t Los Pozos - Sweetwater Locus & 1                            & A                            & AZ AA:12:91 (ASM)            & 0.7846154                    & 0.18461538                   & 0.03076923                   & 0.09950039                  \\\\\n",
       "\t Arroyo Site                  & 1                            & A                            & AZ AA:3:28 (ASM)             & 0.8955224                    & 0.08955224                   & 0.01492537                   & 0.15720089                  \\\\\n",
       "\t Gate Site                    & 1                            & A                            & AZ AA:3:8 (ASM)              & 0.9111111                    & 0.02222222                   & 0.06666667                   & 0.17558959                  \\\\\n",
       "\t Lookout Site                 & 1                            & A                            & AZ S:7:30 (ASM)              & 0.9218750                    & 0.01562500                   & 0.06250000                   & 0.18880735                  \\\\\n",
       "\t Willow Ridge Site            & 2                            & A                            & AZ AA:12:968 (ASM)           & 0.2702703                    & 0.71171171                   & 0.01801802                   & 0.77964073                  \\\\\n",
       "\t Valley Farms                 & 2                            & A                            & ?                            & 0.6525424                    & 0.14406780                   & 0.20338983                   & 0.15530203                  \\\\\n",
       "\\end{tabular}\n"
      ],
      "text/markdown": [
       "\n",
       "ï..Site | PeriodCode | SimpPeriodCode | SiteNum | Lagomorpha | Artiodactyla | Rodentia | distance | \n",
       "|---|---|---|---|---|---|\n",
       "| Los Pozos - Sweetwater Locus | 1                            | A                            | AZ AA:12:91 (ASM)            | 0.7846154                    | 0.18461538                   | 0.03076923                   | 0.09950039                   | \n",
       "| Arroyo Site                  | 1                            | A                            | AZ AA:3:28 (ASM)             | 0.8955224                    | 0.08955224                   | 0.01492537                   | 0.15720089                   | \n",
       "| Gate Site                    | 1                            | A                            | AZ AA:3:8 (ASM)              | 0.9111111                    | 0.02222222                   | 0.06666667                   | 0.17558959                   | \n",
       "| Lookout Site                 | 1                            | A                            | AZ S:7:30 (ASM)              | 0.9218750                    | 0.01562500                   | 0.06250000                   | 0.18880735                   | \n",
       "| Willow Ridge Site            | 2                            | A                            | AZ AA:12:968 (ASM)           | 0.2702703                    | 0.71171171                   | 0.01801802                   | 0.77964073                   | \n",
       "| Valley Farms                 | 2                            | A                            | ?                            | 0.6525424                    | 0.14406780                   | 0.20338983                   | 0.15530203                   | \n",
       "\n",
       "\n"
      ],
      "text/plain": [
       "  ï..Site                      PeriodCode SimpPeriodCode SiteNum           \n",
       "1 Los Pozos - Sweetwater Locus 1          A              AZ AA:12:91 (ASM) \n",
       "2 Arroyo Site                  1          A              AZ AA:3:28 (ASM)  \n",
       "3 Gate Site                    1          A              AZ AA:3:8 (ASM)   \n",
       "4 Lookout Site                 1          A              AZ S:7:30 (ASM)   \n",
       "5 Willow Ridge Site            2          A              AZ AA:12:968 (ASM)\n",
       "6 Valley Farms                 2          A              ?                 \n",
       "  Lagomorpha Artiodactyla Rodentia   distance  \n",
       "1 0.7846154  0.18461538   0.03076923 0.09950039\n",
       "2 0.8955224  0.08955224   0.01492537 0.15720089\n",
       "3 0.9111111  0.02222222   0.06666667 0.17558959\n",
       "4 0.9218750  0.01562500   0.06250000 0.18880735\n",
       "5 0.2702703  0.71171171   0.01801802 0.77964073\n",
       "6 0.6525424  0.14406780   0.20338983 0.15530203"
      ]
     },
     "metadata": {},
     "output_type": "display_data"
    }
   ],
   "source": [
    "head(dataAll)"
   ]
  },
  {
   "cell_type": "code",
   "execution_count": 24,
   "metadata": {
    "scrolled": true
   },
   "outputs": [
    {
     "data": {
      "image/png": "[encoded data removed]",
      "text/plain": [
       "Plot with title \"Histogram of dataAll$distance\""
      ]
     },
     "metadata": {},
     "output_type": "display_data"
    }
   ],
   "source": [
    "hist(dataAll$distance)"
   ]
  },
  {
   "cell_type": "markdown",
   "metadata": {},
   "source": [
    "## Add distance to period-specific centroid column"
   ]
  },
  {
   "cell_type": "code",
   "execution_count": 25,
   "metadata": {},
   "outputs": [
    {
     "data": {
      "text/html": [
       "'logical'"
      ],
      "text/latex": [
       "'logical'"
      ],
      "text/markdown": [
       "'logical'"
      ],
      "text/plain": [
       "[1] \"logical\""
      ]
     },
     "metadata": {},
     "output_type": "display_data"
    }
   ],
   "source": [
    "dataAll[, \"PeriodDistance\"] <- NA\n",
    "class(dataAll$PeriodDistance)"
   ]
  },
  {
   "cell_type": "code",
   "execution_count": 26,
   "metadata": {},
   "outputs": [],
   "source": [
    "distance3D <- function(a, b) \n",
    "{\n",
    "    sqrt((a[1] - b[1])^2 + (a[2] - b[2])^2 + (a[3] - b[3])^2)\n",
    "}"
   ]
  },
  {
   "cell_type": "code",
   "execution_count": 27,
   "metadata": {},
   "outputs": [],
   "source": [
    "# This is a bit hacky. Seems like there ought to be a straightforward way to simply \n",
    "# add this as a calculated column, but I can't get it to work\n",
    "troika <- c(\"Lagomorpha\", \"Artiodactyla\", \"Rodentia\")\n",
    "for (i in 1:nrow(dataAll))\n",
    "{\n",
    "    if (is.na(dataAll$SimpPeriodCode[i] )) \n",
    "    {\n",
    "        dataAll$PeriodDistance[i] <- NA\n",
    "    } else\n",
    "    {\n",
    "        periodIndex <- which(c(\"A\", \"B\", \"C\", \"D\") == dataAll$SimpPeriodCode[i])[[1]]\n",
    "        dataAll$PeriodDistance[i] <- distance3D(dfCentroids[periodIndex, troika], dataAll[i, troika])\n",
    "    }    \n",
    "}"
   ]
  },
  {
   "cell_type": "code",
   "execution_count": 28,
   "metadata": {},
   "outputs": [
    {
     "data": {
      "text/html": [
       "<table>\n",
       "<thead><tr><th scope=col>ï..Site</th><th scope=col>PeriodCode</th><th scope=col>SimpPeriodCode</th><th scope=col>SiteNum</th><th scope=col>Lagomorpha</th><th scope=col>Artiodactyla</th><th scope=col>Rodentia</th><th scope=col>distance</th><th scope=col>PeriodDistance</th></tr></thead>\n",
       "<tbody>\n",
       "\t<tr><td>Los Pozos - Sweetwater Locus</td><td>1.0                         </td><td>A                           </td><td>AZ AA:12:91 (ASM)           </td><td>0.7846154                   </td><td>0.184615385                 </td><td>0.03076923                  </td><td>0.099500386                 </td><td>0.06608837                  </td></tr>\n",
       "\t<tr><td>Arroyo Site                 </td><td>1.0                         </td><td>A                           </td><td>AZ AA:3:28 (ASM)            </td><td>0.8955224                   </td><td>0.089552239                 </td><td>0.01492537                  </td><td>0.157200891                 </td><td>0.0995674                   </td></tr>\n",
       "\t<tr><td>Gate Site                   </td><td>1.0                         </td><td>A                           </td><td>AZ AA:3:8 (ASM)             </td><td>0.9111111                   </td><td>0.022222222                 </td><td>0.06666667                  </td><td>0.175589594                 </td><td>0.14594                     </td></tr>\n",
       "\t<tr><td>Lookout Site                </td><td>1.0                         </td><td>A                           </td><td>AZ S:7:30 (ASM)             </td><td>0.9218750                   </td><td>0.015625000                 </td><td>0.06250000                  </td><td>0.188807348                 </td><td>0.157784                    </td></tr>\n",
       "\t<tr><td>Willow Ridge Site           </td><td>2.0                         </td><td>A                           </td><td>AZ AA:12:968 (ASM)          </td><td>0.2702703                   </td><td>0.711711712                 </td><td>0.01801802                  </td><td>0.779640732                 </td><td>0.7967338                   </td></tr>\n",
       "\t<tr><td>Valley Farms                </td><td>2.0                         </td><td>A                           </td><td>?                           </td><td>0.6525424                   </td><td>0.144067797                 </td><td>0.20338983                  </td><td>0.155302027                 </td><td>0.2198431                   </td></tr>\n",
       "\t<tr><td>Dairy (Tierra Excavations)  </td><td>2.0                         </td><td>A                           </td><td>AZ AA:12:285 (ASM)          </td><td>0.7920792                   </td><td>0.009900990                 </td><td>0.19801980                  </td><td>0.145646834                 </td><td>0.1885202                   </td></tr>\n",
       "\t<tr><td>Cortaro Fan                 </td><td>2.0                         </td><td>A                           </td><td>AZ AA:12:486 (ASM)          </td><td>0.8292683                   </td><td>0.057926829                 </td><td>0.11280488                  </td><td>0.085849906                 </td><td>0.09416211                  </td></tr>\n",
       "\t<tr><td>Dairy (WestLand excavations)</td><td>2.0                         </td><td>A                           </td><td>AZ AA:12:285 (ASM)          </td><td>0.8311841                   </td><td>0.133645955                 </td><td>0.03516999                  </td><td>0.093639828                 </td><td>0.02627328                  </td></tr>\n",
       "\t<tr><td>Las Capas2                  </td><td>2.0                         </td><td>A                           </td><td>AZ AA:12:111 (ASM)          </td><td>0.8996949                   </td><td>0.042334096                 </td><td>0.05797101                  </td><td>0.158004593                 </td><td>0.1230013                   </td></tr>\n",
       "\t<tr><td>El Taller                   </td><td>2.0                         </td><td>A                           </td><td>485299                      </td><td>0.9025735                   </td><td>0.080882353                 </td><td>0.01654412                  </td><td>0.163829121                 </td><td>0.1084989                   </td></tr>\n",
       "\t<tr><td>Las Capas1                  </td><td>2.0                         </td><td>A                           </td><td>AZ AA:12:111 (ASM)          </td><td>0.9335888                   </td><td>0.040868455                 </td><td>0.02554278                  </td><td>0.198036970                 </td><td>0.152295                    </td></tr>\n",
       "\t<tr><td>Donaldson                   </td><td>3.0                         </td><td>A                           </td><td>AZ EE:2:30 (ASM)            </td><td>0.5217391                   </td><td>0.413043478                 </td><td>0.06521739                  </td><td>0.386388034                 </td><td>0.4066292                   </td></tr>\n",
       "\t<tr><td>Santa Cruz Bend             </td><td>3.0                         </td><td>A                           </td><td>AZ AA:12:746 (ASM)          </td><td>0.7997595                   </td><td>0.159350571                 </td><td>0.04088996                  </td><td>0.080812190                 </td><td>0.03503769                  </td></tr>\n",
       "\t<tr><td>Clearwater                  </td><td>3.0                         </td><td>A                           </td><td>AZ BB:13:6 (ASM)            </td><td>0.8303571                   </td><td>0.142857143                 </td><td>0.02678571                  </td><td>0.101233808                 </td><td>0.03470659                  </td></tr>\n",
       "\t<tr><td>Los Pozos                   </td><td>3.0                         </td><td>A                           </td><td>AZ AA:12:91 (ASM)           </td><td>0.8457636                   </td><td>0.123251988                 </td><td>0.03098437                  </td><td>0.105739330                 </td><td>0.04035731                  </td></tr>\n",
       "\t<tr><td>Wetlands                    </td><td>3.0                         </td><td>A                           </td><td>AZ AA:12:90 (ASM)           </td><td>0.8611898                   </td><td>0.121813031                 </td><td>0.01699717                  </td><td>0.126516264                 </td><td>0.06108608                  </td></tr>\n",
       "\t<tr><td>Las Capas3                  </td><td>3.0                         </td><td>A                           </td><td>AZ AA:12:111 (ASM)          </td><td>0.9316239                   </td><td>0.051282051                 </td><td>0.01709402                  </td><td>0.196106732                 </td><td>0.1467474                   </td></tr>\n",
       "\t<tr><td>Stonepipe                   </td><td>3.0                         </td><td>A                           </td><td>AZ BB:13:425 (ASM)          </td><td>0.9317073                   </td><td>0.034146341                 </td><td>0.03414634                  </td><td>0.196014545                 </td><td>0.1535197                   </td></tr>\n",
       "\t<tr><td>Coffee Camp                 </td><td>3.0                         </td><td>A                           </td><td>AZ AA:6:19 (ASM)            </td><td>0.9381018                   </td><td>0.035763411                 </td><td>0.02613480                  </td><td>0.203597718                 </td><td>0.158747                    </td></tr>\n",
       "\t<tr><td>Stonepipe                   </td><td>4.0                         </td><td>B                           </td><td>AZ BB:13:425 (ASM)          </td><td>0.7796610                   </td><td>0.118644068                 </td><td>0.10169491                  </td><td>0.009627665                 </td><td>0.07922569                  </td></tr>\n",
       "\t<tr><td>Houghton Road               </td><td>4.0                         </td><td>B                           </td><td>?                           </td><td>0.7812500                   </td><td>0.085937500                 </td><td>0.13281250                  </td><td>0.045137789                 </td><td>0.07503938                  </td></tr>\n",
       "\t<tr><td>El Arbolito                 </td><td>4.0                         </td><td>B                           </td><td>AZ EE:1:153 (ASM)           </td><td>0.9230769                   </td><td>0.048076923                 </td><td>0.02884615                  </td><td>0.185188087                 </td><td>0.1048521                   </td></tr>\n",
       "\t<tr><td>Desert Tortoise             </td><td>5.3                         </td><td>B                           </td><td>AZ AA:12:83                 </td><td>0.8495298                   </td><td>0.123301985                 </td><td>0.02716823                  </td><td>0.111100952                 </td><td>0.08325493                  </td></tr>\n",
       "\t<tr><td>Hodges                      </td><td>5.3                         </td><td>B                           </td><td>AZ AA:12:18 (ASM)           </td><td>0.9488372                   </td><td>0.004651163                 </td><td>0.04651163                  </td><td>0.220393283                 </td><td>0.1334014                   </td></tr>\n",
       "\t<tr><td>Strickland                  </td><td>5.3                         </td><td>B                           </td><td>AZ T:4:1 (ASU)              </td><td>0.9644970                   </td><td>0.017751479                 </td><td>0.01775148                  </td><td>0.236125614                 </td><td>0.1524268                   </td></tr>\n",
       "\t<tr><td>Grewe                       </td><td>5.5                         </td><td>B                           </td><td>AZ AA:2:2 (ASM)             </td><td>0.5868056                   </td><td>0.385416667                 </td><td>0.02777778                  </td><td>0.331861150                 </td><td>0.4100647                   </td></tr>\n",
       "\t<tr><td>Dairy                       </td><td>5.5                         </td><td>B                           </td><td>AZ AA:12:285 (ASM)          </td><td>0.8260870                   </td><td>0.069565217                 </td><td>0.10434783                  </td><td>0.075087522                 </td><td>0.02042341                  </td></tr>\n",
       "\t<tr><td>Redtail                     </td><td>5.5                         </td><td>B                           </td><td>AZ AA:12:149 (ASM)          </td><td>0.9725275                   </td><td>0.000000000                 </td><td>0.02747253                  </td><td>0.247543837                 </td><td>0.1616385                   </td></tr>\n",
       "\t<tr><td>Lonetree                    </td><td>5.5                         </td><td>B                           </td><td>AZ AA:12:120 (ASM)          </td><td>0.9777548                   </td><td>0.003103983                 </td><td>0.01914123                  </td><td>0.253074091                 </td><td>0.1679982                   </td></tr>\n",
       "\t<tr><td>...</td><td>...</td><td>...</td><td>...</td><td>...</td><td>...</td><td>...</td><td>...</td><td>...</td></tr>\n",
       "\t<tr><td>Los Morteros        </td><td>8.3                 </td><td>D                   </td><td>AZ AA:12:57 (ASM)   </td><td>0.9454006           </td><td>0.01899110          </td><td>0.03560831          </td><td>0.21366621          </td><td>0.2462094           </td></tr>\n",
       "\t<tr><td>Columbus            </td><td>8.5                 </td><td>D                   </td><td>AZ V:9:57 (ASM)     </td><td>0.3222222           </td><td>0.63333333          </td><td>0.04444444          </td><td>0.68414561          </td><td>0.6576121           </td></tr>\n",
       "\t<tr><td>Tin Horn Wash       </td><td>8.5                 </td><td>D                   </td><td>AZ V:9:62 (ASM)     </td><td>0.5392157           </td><td>0.43872549          </td><td>0.02205882          </td><td>0.40240399          </td><td>0.3793219           </td></tr>\n",
       "\t<tr><td>Terrace Garden      </td><td>8.5                 </td><td>D                   </td><td>AZ T:8:19 (ASM)     </td><td>0.5886525           </td><td>0.21276596          </td><td>0.19858156          </td><td>0.22442275          </td><td>0.1918148           </td></tr>\n",
       "\t<tr><td>Monitor             </td><td>8.5                 </td><td>D                   </td><td>AZ V:9:56 (ASM)     </td><td>0.6081081           </td><td>0.27027027          </td><td>0.12162162          </td><td>0.22178065          </td><td>0.1923377           </td></tr>\n",
       "\t<tr><td>Pueblo Salado Area 6</td><td>8.5                 </td><td>D                   </td><td>AZ T:12:47 (ASM)    </td><td>0.6137339           </td><td>0.05579399          </td><td>0.33047210          </td><td>0.28185024          </td><td>0.2612377           </td></tr>\n",
       "\t<tr><td>Pueblo Grande       </td><td>8.5                 </td><td>D                   </td><td>AZ U:9:7 (ASM)      </td><td>0.6274639           </td><td>0.01806833          </td><td>0.35446781          </td><td>0.30493231          </td><td>0.2880385           </td></tr>\n",
       "\t<tr><td>East Ruin           </td><td>8.5                 </td><td>D                   </td><td>AZ V:9:68 (ASM)     </td><td>0.6785714           </td><td>0.28571429          </td><td>0.03571429          </td><td>0.20175937          </td><td>0.1844219           </td></tr>\n",
       "\t<tr><td>T:3:323             </td><td>8.5                 </td><td>D                   </td><td>AZ T:3:323 (ASM)    </td><td>0.6935484           </td><td>0.13709677          </td><td>0.16935484          </td><td>0.10157316          </td><td>0.07200138          </td></tr>\n",
       "\t<tr><td>Las Colinas         </td><td>8.5                 </td><td>D                   </td><td>AZ T:12:10 (ASM)    </td><td>0.7482855           </td><td>0.05740411          </td><td>0.19431039          </td><td>0.11114670          </td><td>0.1083006           </td></tr>\n",
       "\t<tr><td>Marana              </td><td>8.5                 </td><td>D                   </td><td>AZ AA:12:251 (ASM)  </td><td>0.7968986           </td><td>0.10098336          </td><td>0.10211800          </td><td>0.03264964          </td><td>0.06441092          </td></tr>\n",
       "\t<tr><td>Bid Kih Ruin        </td><td>8.5                 </td><td>D                   </td><td>AZ AA:15:79 (ASM)   </td><td>0.8155340           </td><td>0.06796117          </td><td>0.11650485          </td><td>0.06976653          </td><td>0.09746943          </td></tr>\n",
       "\t<tr><td>Brady Wash Locus B  </td><td>8.5                 </td><td>D                   </td><td>AZ AA:3:19 (ASM)    </td><td>0.8216783           </td><td>0.02097902          </td><td>0.15734266          </td><td>0.12309911          </td><td>0.1427972           </td></tr>\n",
       "\t<tr><td>Brady Wash Locus S  </td><td>8.5                 </td><td>D                   </td><td>AZ AA:3:19 (ASM)    </td><td>0.8381743           </td><td>0.03734440          </td><td>0.12448133          </td><td>0.10859272          </td><td>0.1352182           </td></tr>\n",
       "\t<tr><td>TaDai Ruin          </td><td>8.5                 </td><td>D                   </td><td>AZ AA:15:97 (ASM)   </td><td>0.8708791           </td><td>0.04258242          </td><td>0.08653846          </td><td>0.12817038          </td><td>0.1596115           </td></tr>\n",
       "\t<tr><td>Brady Wash Locus H  </td><td>8.5                 </td><td>D                   </td><td>AZ AA:3:19 (ASM)    </td><td>0.9242424           </td><td>0.03030303          </td><td>0.04545454          </td><td>0.18779334          </td><td>0.220318            </td></tr>\n",
       "\t<tr><td>Pecan               </td><td>8.5                 </td><td>D                   </td><td>AZ AA:7:62 (ASM)    </td><td>0.9486842           </td><td>0.03684210          </td><td>0.01447368          </td><td>0.21658973          </td><td>0.2491759           </td></tr>\n",
       "\t<tr><td>Sunrise             </td><td>8.5                 </td><td>D                   </td><td>AZ T:8:16 (ASM)     </td><td>0.9682875           </td><td>0.00000000          </td><td>0.03171247          </td><td>0.24277846          </td><td>0.2752364           </td></tr>\n",
       "\t<tr><td>Las Fosas           </td><td>8.7                 </td><td>D                   </td><td>AZ U:15:19 (ASM)    </td><td>0.5946602           </td><td>0.20873786          </td><td>0.19660194          </td><td>0.21707291          </td><td>0.1844738           </td></tr>\n",
       "\t<tr><td>Casa Buena          </td><td>8.7                 </td><td>D                   </td><td>AZ T:12:37 (ASM)    </td><td>0.6144578           </td><td>0.02710843          </td><td>0.35843373          </td><td>0.31161396          </td><td>0.293326            </td></tr>\n",
       "\t<tr><td>Escalante Ruin      </td><td>8.7                 </td><td>D                   </td><td>AZ U:15:3 (ASM)     </td><td>0.7281553           </td><td>0.05825243          </td><td>0.21359223          </td><td>0.13173719          </td><td>0.1230689           </td></tr>\n",
       "\t<tr><td>Rillito Fan         </td><td>8.7                 </td><td>D                   </td><td>AZ AA:12:788 (ASM)  </td><td>0.7923077           </td><td>0.13846154          </td><td>0.06923077          </td><td>0.04585683          </td><td>0.06875765          </td></tr>\n",
       "\t<tr><td>Pueblo Salado       </td><td>8.7                 </td><td>D                   </td><td>AZ T:12:47 (ASM)    </td><td>0.7925170           </td><td>0.01360544          </td><td>0.19387755          </td><td>0.14027763          </td><td>0.1504755           </td></tr>\n",
       "\t<tr><td>El Polvoron         </td><td>8.7                 </td><td>D                   </td><td>AZ U:15:59 (ASM)    </td><td>0.8021201           </td><td>0.02296820          </td><td>0.17491166          </td><td>0.12362660          </td><td>0.1377643           </td></tr>\n",
       "\t<tr><td>Brady Wash Locus I  </td><td>8.7                 </td><td>D                   </td><td>AZ AA:3:19 (ASM)    </td><td>0.8322148           </td><td>0.03020134          </td><td>0.13758389          </td><td>0.11371332          </td><td>0.1377406           </td></tr>\n",
       "\t<tr><td>Brady Wash Locus E  </td><td>8.7                 </td><td>D                   </td><td>AZ AA:3:19 (ASM)    </td><td>0.8510638           </td><td>0.06382979          </td><td>0.08510638          </td><td>0.10027641          </td><td>0.1322543           </td></tr>\n",
       "\t<tr><td>Brady Wash Locus G  </td><td>8.7                 </td><td>D                   </td><td>AZ AA:3:19 (ASM)    </td><td>0.8686869           </td><td>0.01010101          </td><td>0.12121212          </td><td>0.14828706          </td><td>0.1759238           </td></tr>\n",
       "\t<tr><td>Brady Wash Locus D  </td><td>8.7                 </td><td>D                   </td><td>AZ AA:3:19 (ASM)    </td><td>0.8968481           </td><td>0.02005731          </td><td>0.08309456          </td><td>0.16265135          </td><td>0.1939146           </td></tr>\n",
       "\t<tr><td>McClelland Wash     </td><td>8.7                 </td><td>D                   </td><td>AZ AA:7:15 (ASM)    </td><td>0.9243156           </td><td>0.03220612          </td><td>0.04347826          </td><td>0.18759230          </td><td>0.2201485           </td></tr>\n",
       "\t<tr><td>Brady Wash Locus C  </td><td>8.7                 </td><td>D                   </td><td>AZ AA:3:19 (ASM)    </td><td>0.9374150           </td><td>0.02176871          </td><td>0.04081633          </td><td>0.20413639          </td><td>0.2366489           </td></tr>\n",
       "</tbody>\n",
       "</table>\n"
      ],
      "text/latex": [
       "\\begin{tabular}{r|lllllllll}\n",
       " ï..Site & PeriodCode & SimpPeriodCode & SiteNum & Lagomorpha & Artiodactyla & Rodentia & distance & PeriodDistance\\\\\n",
       "\\hline\n",
       "\t Los Pozos - Sweetwater Locus & 1.0                          & A                            & AZ AA:12:91 (ASM)            & 0.7846154                    & 0.184615385                  & 0.03076923                   & 0.099500386                  & 0.06608837                  \\\\\n",
       "\t Arroyo Site                  & 1.0                          & A                            & AZ AA:3:28 (ASM)             & 0.8955224                    & 0.089552239                  & 0.01492537                   & 0.157200891                  & 0.0995674                   \\\\\n",
       "\t Gate Site                    & 1.0                          & A                            & AZ AA:3:8 (ASM)              & 0.9111111                    & 0.022222222                  & 0.06666667                   & 0.175589594                  & 0.14594                     \\\\\n",
       "\t Lookout Site                 & 1.0                          & A                            & AZ S:7:30 (ASM)              & 0.9218750                    & 0.015625000                  & 0.06250000                   & 0.188807348                  & 0.157784                    \\\\\n",
       "\t Willow Ridge Site            & 2.0                          & A                            & AZ AA:12:968 (ASM)           & 0.2702703                    & 0.711711712                  & 0.01801802                   & 0.779640732                  & 0.7967338                   \\\\\n",
       "\t Valley Farms                 & 2.0                          & A                            & ?                            & 0.6525424                    & 0.144067797                  & 0.20338983                   & 0.155302027                  & 0.2198431                   \\\\\n",
       "\t Dairy (Tierra Excavations)   & 2.0                          & A                            & AZ AA:12:285 (ASM)           & 0.7920792                    & 0.009900990                  & 0.19801980                   & 0.145646834                  & 0.1885202                   \\\\\n",
       "\t Cortaro Fan                  & 2.0                          & A                            & AZ AA:12:486 (ASM)           & 0.8292683                    & 0.057926829                  & 0.11280488                   & 0.085849906                  & 0.09416211                  \\\\\n",
       "\t Dairy (WestLand excavations) & 2.0                          & A                            & AZ AA:12:285 (ASM)           & 0.8311841                    & 0.133645955                  & 0.03516999                   & 0.093639828                  & 0.02627328                  \\\\\n",
       "\t Las Capas2                   & 2.0                          & A                            & AZ AA:12:111 (ASM)           & 0.8996949                    & 0.042334096                  & 0.05797101                   & 0.158004593                  & 0.1230013                   \\\\\n",
       "\t El Taller                    & 2.0                          & A                            & 485299                       & 0.9025735                    & 0.080882353                  & 0.01654412                   & 0.163829121                  & 0.1084989                   \\\\\n",
       "\t Las Capas1                   & 2.0                          & A                            & AZ AA:12:111 (ASM)           & 0.9335888                    & 0.040868455                  & 0.02554278                   & 0.198036970                  & 0.152295                    \\\\\n",
       "\t Donaldson                    & 3.0                          & A                            & AZ EE:2:30 (ASM)             & 0.5217391                    & 0.413043478                  & 0.06521739                   & 0.386388034                  & 0.4066292                   \\\\\n",
       "\t Santa Cruz Bend              & 3.0                          & A                            & AZ AA:12:746 (ASM)           & 0.7997595                    & 0.159350571                  & 0.04088996                   & 0.080812190                  & 0.03503769                  \\\\\n",
       "\t Clearwater                   & 3.0                          & A                            & AZ BB:13:6 (ASM)             & 0.8303571                    & 0.142857143                  & 0.02678571                   & 0.101233808                  & 0.03470659                  \\\\\n",
       "\t Los Pozos                    & 3.0                          & A                            & AZ AA:12:91 (ASM)            & 0.8457636                    & 0.123251988                  & 0.03098437                   & 0.105739330                  & 0.04035731                  \\\\\n",
       "\t Wetlands                     & 3.0                          & A                            & AZ AA:12:90 (ASM)            & 0.8611898                    & 0.121813031                  & 0.01699717                   & 0.126516264                  & 0.06108608                  \\\\\n",
       "\t Las Capas3                   & 3.0                          & A                            & AZ AA:12:111 (ASM)           & 0.9316239                    & 0.051282051                  & 0.01709402                   & 0.196106732                  & 0.1467474                   \\\\\n",
       "\t Stonepipe                    & 3.0                          & A                            & AZ BB:13:425 (ASM)           & 0.9317073                    & 0.034146341                  & 0.03414634                   & 0.196014545                  & 0.1535197                   \\\\\n",
       "\t Coffee Camp                  & 3.0                          & A                            & AZ AA:6:19 (ASM)             & 0.9381018                    & 0.035763411                  & 0.02613480                   & 0.203597718                  & 0.158747                    \\\\\n",
       "\t Stonepipe                    & 4.0                          & B                            & AZ BB:13:425 (ASM)           & 0.7796610                    & 0.118644068                  & 0.10169491                   & 0.009627665                  & 0.07922569                  \\\\\n",
       "\t Houghton Road                & 4.0                          & B                            & ?                            & 0.7812500                    & 0.085937500                  & 0.13281250                   & 0.045137789                  & 0.07503938                  \\\\\n",
       "\t El Arbolito                  & 4.0                          & B                            & AZ EE:1:153 (ASM)            & 0.9230769                    & 0.048076923                  & 0.02884615                   & 0.185188087                  & 0.1048521                   \\\\\n",
       "\t Desert Tortoise              & 5.3                          & B                            & AZ AA:12:83                  & 0.8495298                    & 0.123301985                  & 0.02716823                   & 0.111100952                  & 0.08325493                  \\\\\n",
       "\t Hodges                       & 5.3                          & B                            & AZ AA:12:18 (ASM)            & 0.9488372                    & 0.004651163                  & 0.04651163                   & 0.220393283                  & 0.1334014                   \\\\\n",
       "\t Strickland                   & 5.3                          & B                            & AZ T:4:1 (ASU)               & 0.9644970                    & 0.017751479                  & 0.01775148                   & 0.236125614                  & 0.1524268                   \\\\\n",
       "\t Grewe                        & 5.5                          & B                            & AZ AA:2:2 (ASM)              & 0.5868056                    & 0.385416667                  & 0.02777778                   & 0.331861150                  & 0.4100647                   \\\\\n",
       "\t Dairy                        & 5.5                          & B                            & AZ AA:12:285 (ASM)           & 0.8260870                    & 0.069565217                  & 0.10434783                   & 0.075087522                  & 0.02042341                  \\\\\n",
       "\t Redtail                      & 5.5                          & B                            & AZ AA:12:149 (ASM)           & 0.9725275                    & 0.000000000                  & 0.02747253                   & 0.247543837                  & 0.1616385                   \\\\\n",
       "\t Lonetree                     & 5.5                          & B                            & AZ AA:12:120 (ASM)           & 0.9777548                    & 0.003103983                  & 0.01914123                   & 0.253074091                  & 0.1679982                   \\\\\n",
       "\t ... & ... & ... & ... & ... & ... & ... & ... & ...\\\\\n",
       "\t Los Morteros         & 8.3                  & D                    & AZ AA:12:57 (ASM)    & 0.9454006            & 0.01899110           & 0.03560831           & 0.21366621           & 0.2462094           \\\\\n",
       "\t Columbus             & 8.5                  & D                    & AZ V:9:57 (ASM)      & 0.3222222            & 0.63333333           & 0.04444444           & 0.68414561           & 0.6576121           \\\\\n",
       "\t Tin Horn Wash        & 8.5                  & D                    & AZ V:9:62 (ASM)      & 0.5392157            & 0.43872549           & 0.02205882           & 0.40240399           & 0.3793219           \\\\\n",
       "\t Terrace Garden       & 8.5                  & D                    & AZ T:8:19 (ASM)      & 0.5886525            & 0.21276596           & 0.19858156           & 0.22442275           & 0.1918148           \\\\\n",
       "\t Monitor              & 8.5                  & D                    & AZ V:9:56 (ASM)      & 0.6081081            & 0.27027027           & 0.12162162           & 0.22178065           & 0.1923377           \\\\\n",
       "\t Pueblo Salado Area 6 & 8.5                  & D                    & AZ T:12:47 (ASM)     & 0.6137339            & 0.05579399           & 0.33047210           & 0.28185024           & 0.2612377           \\\\\n",
       "\t Pueblo Grande        & 8.5                  & D                    & AZ U:9:7 (ASM)       & 0.6274639            & 0.01806833           & 0.35446781           & 0.30493231           & 0.2880385           \\\\\n",
       "\t East Ruin            & 8.5                  & D                    & AZ V:9:68 (ASM)      & 0.6785714            & 0.28571429           & 0.03571429           & 0.20175937           & 0.1844219           \\\\\n",
       "\t T:3:323              & 8.5                  & D                    & AZ T:3:323 (ASM)     & 0.6935484            & 0.13709677           & 0.16935484           & 0.10157316           & 0.07200138          \\\\\n",
       "\t Las Colinas          & 8.5                  & D                    & AZ T:12:10 (ASM)     & 0.7482855            & 0.05740411           & 0.19431039           & 0.11114670           & 0.1083006           \\\\\n",
       "\t Marana               & 8.5                  & D                    & AZ AA:12:251 (ASM)   & 0.7968986            & 0.10098336           & 0.10211800           & 0.03264964           & 0.06441092          \\\\\n",
       "\t Bid Kih Ruin         & 8.5                  & D                    & AZ AA:15:79 (ASM)    & 0.8155340            & 0.06796117           & 0.11650485           & 0.06976653           & 0.09746943          \\\\\n",
       "\t Brady Wash Locus B   & 8.5                  & D                    & AZ AA:3:19 (ASM)     & 0.8216783            & 0.02097902           & 0.15734266           & 0.12309911           & 0.1427972           \\\\\n",
       "\t Brady Wash Locus S   & 8.5                  & D                    & AZ AA:3:19 (ASM)     & 0.8381743            & 0.03734440           & 0.12448133           & 0.10859272           & 0.1352182           \\\\\n",
       "\t TaDai Ruin           & 8.5                  & D                    & AZ AA:15:97 (ASM)    & 0.8708791            & 0.04258242           & 0.08653846           & 0.12817038           & 0.1596115           \\\\\n",
       "\t Brady Wash Locus H   & 8.5                  & D                    & AZ AA:3:19 (ASM)     & 0.9242424            & 0.03030303           & 0.04545454           & 0.18779334           & 0.220318            \\\\\n",
       "\t Pecan                & 8.5                  & D                    & AZ AA:7:62 (ASM)     & 0.9486842            & 0.03684210           & 0.01447368           & 0.21658973           & 0.2491759           \\\\\n",
       "\t Sunrise              & 8.5                  & D                    & AZ T:8:16 (ASM)      & 0.9682875            & 0.00000000           & 0.03171247           & 0.24277846           & 0.2752364           \\\\\n",
       "\t Las Fosas            & 8.7                  & D                    & AZ U:15:19 (ASM)     & 0.5946602            & 0.20873786           & 0.19660194           & 0.21707291           & 0.1844738           \\\\\n",
       "\t Casa Buena           & 8.7                  & D                    & AZ T:12:37 (ASM)     & 0.6144578            & 0.02710843           & 0.35843373           & 0.31161396           & 0.293326            \\\\\n",
       "\t Escalante Ruin       & 8.7                  & D                    & AZ U:15:3 (ASM)      & 0.7281553            & 0.05825243           & 0.21359223           & 0.13173719           & 0.1230689           \\\\\n",
       "\t Rillito Fan          & 8.7                  & D                    & AZ AA:12:788 (ASM)   & 0.7923077            & 0.13846154           & 0.06923077           & 0.04585683           & 0.06875765          \\\\\n",
       "\t Pueblo Salado        & 8.7                  & D                    & AZ T:12:47 (ASM)     & 0.7925170            & 0.01360544           & 0.19387755           & 0.14027763           & 0.1504755           \\\\\n",
       "\t El Polvoron          & 8.7                  & D                    & AZ U:15:59 (ASM)     & 0.8021201            & 0.02296820           & 0.17491166           & 0.12362660           & 0.1377643           \\\\\n",
       "\t Brady Wash Locus I   & 8.7                  & D                    & AZ AA:3:19 (ASM)     & 0.8322148            & 0.03020134           & 0.13758389           & 0.11371332           & 0.1377406           \\\\\n",
       "\t Brady Wash Locus E   & 8.7                  & D                    & AZ AA:3:19 (ASM)     & 0.8510638            & 0.06382979           & 0.08510638           & 0.10027641           & 0.1322543           \\\\\n",
       "\t Brady Wash Locus G   & 8.7                  & D                    & AZ AA:3:19 (ASM)     & 0.8686869            & 0.01010101           & 0.12121212           & 0.14828706           & 0.1759238           \\\\\n",
       "\t Brady Wash Locus D   & 8.7                  & D                    & AZ AA:3:19 (ASM)     & 0.8968481            & 0.02005731           & 0.08309456           & 0.16265135           & 0.1939146           \\\\\n",
       "\t McClelland Wash      & 8.7                  & D                    & AZ AA:7:15 (ASM)     & 0.9243156            & 0.03220612           & 0.04347826           & 0.18759230           & 0.2201485           \\\\\n",
       "\t Brady Wash Locus C   & 8.7                  & D                    & AZ AA:3:19 (ASM)     & 0.9374150            & 0.02176871           & 0.04081633           & 0.20413639           & 0.2366489           \\\\\n",
       "\\end{tabular}\n"
      ],
      "text/markdown": [
       "\n",
       "ï..Site | PeriodCode | SimpPeriodCode | SiteNum | Lagomorpha | Artiodactyla | Rodentia | distance | PeriodDistance | \n",
       "|---|---|---|---|---|---|---|---|---|---|---|---|---|---|---|---|---|---|---|---|---|---|---|---|---|---|---|---|---|---|---|---|---|---|---|---|---|---|---|---|---|---|---|---|---|---|---|---|---|---|---|---|---|---|---|---|---|---|---|---|---|\n",
       "| Los Pozos - Sweetwater Locus | 1.0                          | A                            | AZ AA:12:91 (ASM)            | 0.7846154                    | 0.184615385                  | 0.03076923                   | 0.099500386                  | 0.06608837                   | \n",
       "| Arroyo Site                  | 1.0                          | A                            | AZ AA:3:28 (ASM)             | 0.8955224                    | 0.089552239                  | 0.01492537                   | 0.157200891                  | 0.0995674                    | \n",
       "| Gate Site                    | 1.0                          | A                            | AZ AA:3:8 (ASM)              | 0.9111111                    | 0.022222222                  | 0.06666667                   | 0.175589594                  | 0.14594                      | \n",
       "| Lookout Site                 | 1.0                          | A                            | AZ S:7:30 (ASM)              | 0.9218750                    | 0.015625000                  | 0.06250000                   | 0.188807348                  | 0.157784                     | \n",
       "| Willow Ridge Site            | 2.0                          | A                            | AZ AA:12:968 (ASM)           | 0.2702703                    | 0.711711712                  | 0.01801802                   | 0.779640732                  | 0.7967338                    | \n",
       "| Valley Farms                 | 2.0                          | A                            | ?                            | 0.6525424                    | 0.144067797                  | 0.20338983                   | 0.155302027                  | 0.2198431                    | \n",
       "| Dairy (Tierra Excavations)   | 2.0                          | A                            | AZ AA:12:285 (ASM)           | 0.7920792                    | 0.009900990                  | 0.19801980                   | 0.145646834                  | 0.1885202                    | \n",
       "| Cortaro Fan                  | 2.0                          | A                            | AZ AA:12:486 (ASM)           | 0.8292683                    | 0.057926829                  | 0.11280488                   | 0.085849906                  | 0.09416211                   | \n",
       "| Dairy (WestLand excavations) | 2.0                          | A                            | AZ AA:12:285 (ASM)           | 0.8311841                    | 0.133645955                  | 0.03516999                   | 0.093639828                  | 0.02627328                   | \n",
       "| Las Capas2                   | 2.0                          | A                            | AZ AA:12:111 (ASM)           | 0.8996949                    | 0.042334096                  | 0.05797101                   | 0.158004593                  | 0.1230013                    | \n",
       "| El Taller                    | 2.0                          | A                            | 485299                       | 0.9025735                    | 0.080882353                  | 0.01654412                   | 0.163829121                  | 0.1084989                    | \n",
       "| Las Capas1                   | 2.0                          | A                            | AZ AA:12:111 (ASM)           | 0.9335888                    | 0.040868455                  | 0.02554278                   | 0.198036970                  | 0.152295                     | \n",
       "| Donaldson                    | 3.0                          | A                            | AZ EE:2:30 (ASM)             | 0.5217391                    | 0.413043478                  | 0.06521739                   | 0.386388034                  | 0.4066292                    | \n",
       "| Santa Cruz Bend              | 3.0                          | A                            | AZ AA:12:746 (ASM)           | 0.7997595                    | 0.159350571                  | 0.04088996                   | 0.080812190                  | 0.03503769                   | \n",
       "| Clearwater                   | 3.0                          | A                            | AZ BB:13:6 (ASM)             | 0.8303571                    | 0.142857143                  | 0.02678571                   | 0.101233808                  | 0.03470659                   | \n",
       "| Los Pozos                    | 3.0                          | A                            | AZ AA:12:91 (ASM)            | 0.8457636                    | 0.123251988                  | 0.03098437                   | 0.105739330                  | 0.04035731                   | \n",
       "| Wetlands                     | 3.0                          | A                            | AZ AA:12:90 (ASM)            | 0.8611898                    | 0.121813031                  | 0.01699717                   | 0.126516264                  | 0.06108608                   | \n",
       "| Las Capas3                   | 3.0                          | A                            | AZ AA:12:111 (ASM)           | 0.9316239                    | 0.051282051                  | 0.01709402                   | 0.196106732                  | 0.1467474                    | \n",
       "| Stonepipe                    | 3.0                          | A                            | AZ BB:13:425 (ASM)           | 0.9317073                    | 0.034146341                  | 0.03414634                   | 0.196014545                  | 0.1535197                    | \n",
       "| Coffee Camp                  | 3.0                          | A                            | AZ AA:6:19 (ASM)             | 0.9381018                    | 0.035763411                  | 0.02613480                   | 0.203597718                  | 0.158747                     | \n",
       "| Stonepipe                    | 4.0                          | B                            | AZ BB:13:425 (ASM)           | 0.7796610                    | 0.118644068                  | 0.10169491                   | 0.009627665                  | 0.07922569                   | \n",
       "| Houghton Road                | 4.0                          | B                            | ?                            | 0.7812500                    | 0.085937500                  | 0.13281250                   | 0.045137789                  | 0.07503938                   | \n",
       "| El Arbolito                  | 4.0                          | B                            | AZ EE:1:153 (ASM)            | 0.9230769                    | 0.048076923                  | 0.02884615                   | 0.185188087                  | 0.1048521                    | \n",
       "| Desert Tortoise              | 5.3                          | B                            | AZ AA:12:83                  | 0.8495298                    | 0.123301985                  | 0.02716823                   | 0.111100952                  | 0.08325493                   | \n",
       "| Hodges                       | 5.3                          | B                            | AZ AA:12:18 (ASM)            | 0.9488372                    | 0.004651163                  | 0.04651163                   | 0.220393283                  | 0.1334014                    | \n",
       "| Strickland                   | 5.3                          | B                            | AZ T:4:1 (ASU)               | 0.9644970                    | 0.017751479                  | 0.01775148                   | 0.236125614                  | 0.1524268                    | \n",
       "| Grewe                        | 5.5                          | B                            | AZ AA:2:2 (ASM)              | 0.5868056                    | 0.385416667                  | 0.02777778                   | 0.331861150                  | 0.4100647                    | \n",
       "| Dairy                        | 5.5                          | B                            | AZ AA:12:285 (ASM)           | 0.8260870                    | 0.069565217                  | 0.10434783                   | 0.075087522                  | 0.02042341                   | \n",
       "| Redtail                      | 5.5                          | B                            | AZ AA:12:149 (ASM)           | 0.9725275                    | 0.000000000                  | 0.02747253                   | 0.247543837                  | 0.1616385                    | \n",
       "| Lonetree                     | 5.5                          | B                            | AZ AA:12:120 (ASM)           | 0.9777548                    | 0.003103983                  | 0.01914123                   | 0.253074091                  | 0.1679982                    | \n",
       "| ... | ... | ... | ... | ... | ... | ... | ... | ... | \n",
       "| Los Morteros         | 8.3                  | D                    | AZ AA:12:57 (ASM)    | 0.9454006            | 0.01899110           | 0.03560831           | 0.21366621           | 0.2462094            | \n",
       "| Columbus             | 8.5                  | D                    | AZ V:9:57 (ASM)      | 0.3222222            | 0.63333333           | 0.04444444           | 0.68414561           | 0.6576121            | \n",
       "| Tin Horn Wash        | 8.5                  | D                    | AZ V:9:62 (ASM)      | 0.5392157            | 0.43872549           | 0.02205882           | 0.40240399           | 0.3793219            | \n",
       "| Terrace Garden       | 8.5                  | D                    | AZ T:8:19 (ASM)      | 0.5886525            | 0.21276596           | 0.19858156           | 0.22442275           | 0.1918148            | \n",
       "| Monitor              | 8.5                  | D                    | AZ V:9:56 (ASM)      | 0.6081081            | 0.27027027           | 0.12162162           | 0.22178065           | 0.1923377            | \n",
       "| Pueblo Salado Area 6 | 8.5                  | D                    | AZ T:12:47 (ASM)     | 0.6137339            | 0.05579399           | 0.33047210           | 0.28185024           | 0.2612377            | \n",
       "| Pueblo Grande        | 8.5                  | D                    | AZ U:9:7 (ASM)       | 0.6274639            | 0.01806833           | 0.35446781           | 0.30493231           | 0.2880385            | \n",
       "| East Ruin            | 8.5                  | D                    | AZ V:9:68 (ASM)      | 0.6785714            | 0.28571429           | 0.03571429           | 0.20175937           | 0.1844219            | \n",
       "| T:3:323              | 8.5                  | D                    | AZ T:3:323 (ASM)     | 0.6935484            | 0.13709677           | 0.16935484           | 0.10157316           | 0.07200138           | \n",
       "| Las Colinas          | 8.5                  | D                    | AZ T:12:10 (ASM)     | 0.7482855            | 0.05740411           | 0.19431039           | 0.11114670           | 0.1083006            | \n",
       "| Marana               | 8.5                  | D                    | AZ AA:12:251 (ASM)   | 0.7968986            | 0.10098336           | 0.10211800           | 0.03264964           | 0.06441092           | \n",
       "| Bid Kih Ruin         | 8.5                  | D                    | AZ AA:15:79 (ASM)    | 0.8155340            | 0.06796117           | 0.11650485           | 0.06976653           | 0.09746943           | \n",
       "| Brady Wash Locus B   | 8.5                  | D                    | AZ AA:3:19 (ASM)     | 0.8216783            | 0.02097902           | 0.15734266           | 0.12309911           | 0.1427972            | \n",
       "| Brady Wash Locus S   | 8.5                  | D                    | AZ AA:3:19 (ASM)     | 0.8381743            | 0.03734440           | 0.12448133           | 0.10859272           | 0.1352182            | \n",
       "| TaDai Ruin           | 8.5                  | D                    | AZ AA:15:97 (ASM)    | 0.8708791            | 0.04258242           | 0.08653846           | 0.12817038           | 0.1596115            | \n",
       "| Brady Wash Locus H   | 8.5                  | D                    | AZ AA:3:19 (ASM)     | 0.9242424            | 0.03030303           | 0.04545454           | 0.18779334           | 0.220318             | \n",
       "| Pecan                | 8.5                  | D                    | AZ AA:7:62 (ASM)     | 0.9486842            | 0.03684210           | 0.01447368           | 0.21658973           | 0.2491759            | \n",
       "| Sunrise              | 8.5                  | D                    | AZ T:8:16 (ASM)      | 0.9682875            | 0.00000000           | 0.03171247           | 0.24277846           | 0.2752364            | \n",
       "| Las Fosas            | 8.7                  | D                    | AZ U:15:19 (ASM)     | 0.5946602            | 0.20873786           | 0.19660194           | 0.21707291           | 0.1844738            | \n",
       "| Casa Buena           | 8.7                  | D                    | AZ T:12:37 (ASM)     | 0.6144578            | 0.02710843           | 0.35843373           | 0.31161396           | 0.293326             | \n",
       "| Escalante Ruin       | 8.7                  | D                    | AZ U:15:3 (ASM)      | 0.7281553            | 0.05825243           | 0.21359223           | 0.13173719           | 0.1230689            | \n",
       "| Rillito Fan          | 8.7                  | D                    | AZ AA:12:788 (ASM)   | 0.7923077            | 0.13846154           | 0.06923077           | 0.04585683           | 0.06875765           | \n",
       "| Pueblo Salado        | 8.7                  | D                    | AZ T:12:47 (ASM)     | 0.7925170            | 0.01360544           | 0.19387755           | 0.14027763           | 0.1504755            | \n",
       "| El Polvoron          | 8.7                  | D                    | AZ U:15:59 (ASM)     | 0.8021201            | 0.02296820           | 0.17491166           | 0.12362660           | 0.1377643            | \n",
       "| Brady Wash Locus I   | 8.7                  | D                    | AZ AA:3:19 (ASM)     | 0.8322148            | 0.03020134           | 0.13758389           | 0.11371332           | 0.1377406            | \n",
       "| Brady Wash Locus E   | 8.7                  | D                    | AZ AA:3:19 (ASM)     | 0.8510638            | 0.06382979           | 0.08510638           | 0.10027641           | 0.1322543            | \n",
       "| Brady Wash Locus G   | 8.7                  | D                    | AZ AA:3:19 (ASM)     | 0.8686869            | 0.01010101           | 0.12121212           | 0.14828706           | 0.1759238            | \n",
       "| Brady Wash Locus D   | 8.7                  | D                    | AZ AA:3:19 (ASM)     | 0.8968481            | 0.02005731           | 0.08309456           | 0.16265135           | 0.1939146            | \n",
       "| McClelland Wash      | 8.7                  | D                    | AZ AA:7:15 (ASM)     | 0.9243156            | 0.03220612           | 0.04347826           | 0.18759230           | 0.2201485            | \n",
       "| Brady Wash Locus C   | 8.7                  | D                    | AZ AA:3:19 (ASM)     | 0.9374150            | 0.02176871           | 0.04081633           | 0.20413639           | 0.2366489            | \n",
       "\n",
       "\n"
      ],
      "text/plain": [
       "    ï..Site                      PeriodCode SimpPeriodCode SiteNum           \n",
       "1   Los Pozos - Sweetwater Locus 1.0        A              AZ AA:12:91 (ASM) \n",
       "2   Arroyo Site                  1.0        A              AZ AA:3:28 (ASM)  \n",
       "3   Gate Site                    1.0        A              AZ AA:3:8 (ASM)   \n",
       "4   Lookout Site                 1.0        A              AZ S:7:30 (ASM)   \n",
       "5   Willow Ridge Site            2.0        A              AZ AA:12:968 (ASM)\n",
       "6   Valley Farms                 2.0        A              ?                 \n",
       "7   Dairy (Tierra Excavations)   2.0        A              AZ AA:12:285 (ASM)\n",
       "8   Cortaro Fan                  2.0        A              AZ AA:12:486 (ASM)\n",
       "9   Dairy (WestLand excavations) 2.0        A              AZ AA:12:285 (ASM)\n",
       "10  Las Capas2                   2.0        A              AZ AA:12:111 (ASM)\n",
       "11  El Taller                    2.0        A              485299            \n",
       "12  Las Capas1                   2.0        A              AZ AA:12:111 (ASM)\n",
       "13  Donaldson                    3.0        A              AZ EE:2:30 (ASM)  \n",
       "14  Santa Cruz Bend              3.0        A              AZ AA:12:746 (ASM)\n",
       "15  Clearwater                   3.0        A              AZ BB:13:6 (ASM)  \n",
       "16  Los Pozos                    3.0        A              AZ AA:12:91 (ASM) \n",
       "17  Wetlands                     3.0        A              AZ AA:12:90 (ASM) \n",
       "18  Las Capas3                   3.0        A              AZ AA:12:111 (ASM)\n",
       "19  Stonepipe                    3.0        A              AZ BB:13:425 (ASM)\n",
       "20  Coffee Camp                  3.0        A              AZ AA:6:19 (ASM)  \n",
       "21  Stonepipe                    4.0        B              AZ BB:13:425 (ASM)\n",
       "22  Houghton Road                4.0        B              ?                 \n",
       "23  El Arbolito                  4.0        B              AZ EE:1:153 (ASM) \n",
       "24  Desert Tortoise              5.3        B              AZ AA:12:83       \n",
       "25  Hodges                       5.3        B              AZ AA:12:18 (ASM) \n",
       "26  Strickland                   5.3        B              AZ T:4:1 (ASU)    \n",
       "27  Grewe                        5.5        B              AZ AA:2:2 (ASM)   \n",
       "28  Dairy                        5.5        B              AZ AA:12:285 (ASM)\n",
       "29  Redtail                      5.5        B              AZ AA:12:149 (ASM)\n",
       "30  Lonetree                     5.5        B              AZ AA:12:120 (ASM)\n",
       "... ...                          ...        ...            ...               \n",
       "92  Los Morteros                 8.3        D              AZ AA:12:57 (ASM) \n",
       "93  Columbus                     8.5        D              AZ V:9:57 (ASM)   \n",
       "94  Tin Horn Wash                8.5        D              AZ V:9:62 (ASM)   \n",
       "95  Terrace Garden               8.5        D              AZ T:8:19 (ASM)   \n",
       "96  Monitor                      8.5        D              AZ V:9:56 (ASM)   \n",
       "97  Pueblo Salado Area 6         8.5        D              AZ T:12:47 (ASM)  \n",
       "98  Pueblo Grande                8.5        D              AZ U:9:7 (ASM)    \n",
       "99  East Ruin                    8.5        D              AZ V:9:68 (ASM)   \n",
       "100 T:3:323                      8.5        D              AZ T:3:323 (ASM)  \n",
       "101 Las Colinas                  8.5        D              AZ T:12:10 (ASM)  \n",
       "102 Marana                       8.5        D              AZ AA:12:251 (ASM)\n",
       "103 Bid Kih Ruin                 8.5        D              AZ AA:15:79 (ASM) \n",
       "104 Brady Wash Locus B           8.5        D              AZ AA:3:19 (ASM)  \n",
       "105 Brady Wash Locus S           8.5        D              AZ AA:3:19 (ASM)  \n",
       "106 TaDai Ruin                   8.5        D              AZ AA:15:97 (ASM) \n",
       "107 Brady Wash Locus H           8.5        D              AZ AA:3:19 (ASM)  \n",
       "108 Pecan                        8.5        D              AZ AA:7:62 (ASM)  \n",
       "109 Sunrise                      8.5        D              AZ T:8:16 (ASM)   \n",
       "110 Las Fosas                    8.7        D              AZ U:15:19 (ASM)  \n",
       "111 Casa Buena                   8.7        D              AZ T:12:37 (ASM)  \n",
       "112 Escalante Ruin               8.7        D              AZ U:15:3 (ASM)   \n",
       "113 Rillito Fan                  8.7        D              AZ AA:12:788 (ASM)\n",
       "114 Pueblo Salado                8.7        D              AZ T:12:47 (ASM)  \n",
       "115 El Polvoron                  8.7        D              AZ U:15:59 (ASM)  \n",
       "116 Brady Wash Locus I           8.7        D              AZ AA:3:19 (ASM)  \n",
       "117 Brady Wash Locus E           8.7        D              AZ AA:3:19 (ASM)  \n",
       "118 Brady Wash Locus G           8.7        D              AZ AA:3:19 (ASM)  \n",
       "119 Brady Wash Locus D           8.7        D              AZ AA:3:19 (ASM)  \n",
       "120 McClelland Wash              8.7        D              AZ AA:7:15 (ASM)  \n",
       "121 Brady Wash Locus C           8.7        D              AZ AA:3:19 (ASM)  \n",
       "    Lagomorpha Artiodactyla Rodentia   distance    PeriodDistance\n",
       "1   0.7846154  0.184615385  0.03076923 0.099500386 0.06608837    \n",
       "2   0.8955224  0.089552239  0.01492537 0.157200891 0.0995674     \n",
       "3   0.9111111  0.022222222  0.06666667 0.175589594 0.14594       \n",
       "4   0.9218750  0.015625000  0.06250000 0.188807348 0.157784      \n",
       "5   0.2702703  0.711711712  0.01801802 0.779640732 0.7967338     \n",
       "6   0.6525424  0.144067797  0.20338983 0.155302027 0.2198431     \n",
       "7   0.7920792  0.009900990  0.19801980 0.145646834 0.1885202     \n",
       "8   0.8292683  0.057926829  0.11280488 0.085849906 0.09416211    \n",
       "9   0.8311841  0.133645955  0.03516999 0.093639828 0.02627328    \n",
       "10  0.8996949  0.042334096  0.05797101 0.158004593 0.1230013     \n",
       "11  0.9025735  0.080882353  0.01654412 0.163829121 0.1084989     \n",
       "12  0.9335888  0.040868455  0.02554278 0.198036970 0.152295      \n",
       "13  0.5217391  0.413043478  0.06521739 0.386388034 0.4066292     \n",
       "14  0.7997595  0.159350571  0.04088996 0.080812190 0.03503769    \n",
       "15  0.8303571  0.142857143  0.02678571 0.101233808 0.03470659    \n",
       "16  0.8457636  0.123251988  0.03098437 0.105739330 0.04035731    \n",
       "17  0.8611898  0.121813031  0.01699717 0.126516264 0.06108608    \n",
       "18  0.9316239  0.051282051  0.01709402 0.196106732 0.1467474     \n",
       "19  0.9317073  0.034146341  0.03414634 0.196014545 0.1535197     \n",
       "20  0.9381018  0.035763411  0.02613480 0.203597718 0.158747      \n",
       "21  0.7796610  0.118644068  0.10169491 0.009627665 0.07922569    \n",
       "22  0.7812500  0.085937500  0.13281250 0.045137789 0.07503938    \n",
       "23  0.9230769  0.048076923  0.02884615 0.185188087 0.1048521     \n",
       "24  0.8495298  0.123301985  0.02716823 0.111100952 0.08325493    \n",
       "25  0.9488372  0.004651163  0.04651163 0.220393283 0.1334014     \n",
       "26  0.9644970  0.017751479  0.01775148 0.236125614 0.1524268     \n",
       "27  0.5868056  0.385416667  0.02777778 0.331861150 0.4100647     \n",
       "28  0.8260870  0.069565217  0.10434783 0.075087522 0.02042341    \n",
       "29  0.9725275  0.000000000  0.02747253 0.247543837 0.1616385     \n",
       "30  0.9777548  0.003103983  0.01914123 0.253074091 0.1679982     \n",
       "... ...        ...          ...        ...         ...           \n",
       "92  0.9454006  0.01899110   0.03560831 0.21366621  0.2462094     \n",
       "93  0.3222222  0.63333333   0.04444444 0.68414561  0.6576121     \n",
       "94  0.5392157  0.43872549   0.02205882 0.40240399  0.3793219     \n",
       "95  0.5886525  0.21276596   0.19858156 0.22442275  0.1918148     \n",
       "96  0.6081081  0.27027027   0.12162162 0.22178065  0.1923377     \n",
       "97  0.6137339  0.05579399   0.33047210 0.28185024  0.2612377     \n",
       "98  0.6274639  0.01806833   0.35446781 0.30493231  0.2880385     \n",
       "99  0.6785714  0.28571429   0.03571429 0.20175937  0.1844219     \n",
       "100 0.6935484  0.13709677   0.16935484 0.10157316  0.07200138    \n",
       "101 0.7482855  0.05740411   0.19431039 0.11114670  0.1083006     \n",
       "102 0.7968986  0.10098336   0.10211800 0.03264964  0.06441092    \n",
       "103 0.8155340  0.06796117   0.11650485 0.06976653  0.09746943    \n",
       "104 0.8216783  0.02097902   0.15734266 0.12309911  0.1427972     \n",
       "105 0.8381743  0.03734440   0.12448133 0.10859272  0.1352182     \n",
       "106 0.8708791  0.04258242   0.08653846 0.12817038  0.1596115     \n",
       "107 0.9242424  0.03030303   0.04545454 0.18779334  0.220318      \n",
       "108 0.9486842  0.03684210   0.01447368 0.21658973  0.2491759     \n",
       "109 0.9682875  0.00000000   0.03171247 0.24277846  0.2752364     \n",
       "110 0.5946602  0.20873786   0.19660194 0.21707291  0.1844738     \n",
       "111 0.6144578  0.02710843   0.35843373 0.31161396  0.293326      \n",
       "112 0.7281553  0.05825243   0.21359223 0.13173719  0.1230689     \n",
       "113 0.7923077  0.13846154   0.06923077 0.04585683  0.06875765    \n",
       "114 0.7925170  0.01360544   0.19387755 0.14027763  0.1504755     \n",
       "115 0.8021201  0.02296820   0.17491166 0.12362660  0.1377643     \n",
       "116 0.8322148  0.03020134   0.13758389 0.11371332  0.1377406     \n",
       "117 0.8510638  0.06382979   0.08510638 0.10027641  0.1322543     \n",
       "118 0.8686869  0.01010101   0.12121212 0.14828706  0.1759238     \n",
       "119 0.8968481  0.02005731   0.08309456 0.16265135  0.1939146     \n",
       "120 0.9243156  0.03220612   0.04347826 0.18759230  0.2201485     \n",
       "121 0.9374150  0.02176871   0.04081633 0.20413639  0.2366489     "
      ]
     },
     "metadata": {},
     "output_type": "display_data"
    }
   ],
   "source": [
    "dataAll"
   ]
  },
  {
   "cell_type": "markdown",
   "metadata": {},
   "source": [
    "## Find period-specific mean distances to centroid"
   ]
  },
  {
   "cell_type": "code",
   "execution_count": 29,
   "metadata": {},
   "outputs": [
    {
     "data": {
      "text/html": [
       "'list'"
      ],
      "text/latex": [
       "'list'"
      ],
      "text/markdown": [
       "'list'"
      ],
      "text/plain": [
       "[1] \"list\""
      ]
     },
     "metadata": {},
     "output_type": "display_data"
    }
   ],
   "source": [
    "class(dataAll$PeriodDistance)  # WTF? Why is this column full of lists?????"
   ]
  },
  {
   "cell_type": "code",
   "execution_count": 30,
   "metadata": {},
   "outputs": [],
   "source": [
    "dataAll$PeriodDistance <- as.numeric(dataAll$PeriodDistance)  # fixes it, but sure seems like it shouldn't be necessary"
   ]
  },
  {
   "cell_type": "code",
   "execution_count": 31,
   "metadata": {},
   "outputs": [
    {
     "data": {
      "text/html": [
       "'numeric'"
      ],
      "text/latex": [
       "'numeric'"
      ],
      "text/markdown": [
       "'numeric'"
      ],
      "text/plain": [
       "[1] \"numeric\""
      ]
     },
     "metadata": {},
     "output_type": "display_data"
    }
   ],
   "source": [
    "class(dataAll$PeriodDistance)"
   ]
  },
  {
   "cell_type": "code",
   "execution_count": 32,
   "metadata": {},
   "outputs": [],
   "source": [
    "dfCentroids$meanDist <- NA"
   ]
  },
  {
   "cell_type": "code",
   "execution_count": 33,
   "metadata": {},
   "outputs": [],
   "source": [
    "# Period-specific mean distances from period centroid\n",
    "for (i in 1:4)\n",
    "{\n",
    "    dfCentroids$meanDist[i] <- mean(dataAll$PeriodDistance[as.character(dataAll$SimpPeriodCode) == as.character(dfCentroids$ps[i])])\n",
    "}\n",
    "\n",
    "# Overall mean distance from overall centroid\n",
    "dfCentroids$meanDist[5] <- mean(dataAll$distance)"
   ]
  },
  {
   "cell_type": "code",
   "execution_count": 34,
   "metadata": {},
   "outputs": [
    {
     "data": {
      "text/html": [
       "<table>\n",
       "<thead><tr><th scope=col>ps</th><th scope=col>Artiodactyla</th><th scope=col>Rodentia</th><th scope=col>Lagomorpha</th><th scope=col>meanDist</th></tr></thead>\n",
       "<tbody>\n",
       "\t<tr><td>A         </td><td>0.13074305</td><td>0.05502857</td><td>0.8142284 </td><td>0.1607769 </td></tr>\n",
       "\t<tr><td>B         </td><td>0.06940074</td><td>0.08998923</td><td>0.8406100 </td><td>0.1500503 </td></tr>\n",
       "\t<tr><td>C         </td><td>0.14151493</td><td>0.13682120</td><td>0.7216639 </td><td>0.2653603 </td></tr>\n",
       "\t<tr><td>D         </td><td>0.13545005</td><td>0.11928552</td><td>0.7452644 </td><td>0.2205329 </td></tr>\n",
       "\t<tr><td>T         </td><td>0.12148757</td><td>0.10661996</td><td>0.7718925 </td><td>0.2138592 </td></tr>\n",
       "</tbody>\n",
       "</table>\n"
      ],
      "text/latex": [
       "\\begin{tabular}{r|lllll}\n",
       " ps & Artiodactyla & Rodentia & Lagomorpha & meanDist\\\\\n",
       "\\hline\n",
       "\t A          & 0.13074305 & 0.05502857 & 0.8142284  & 0.1607769 \\\\\n",
       "\t B          & 0.06940074 & 0.08998923 & 0.8406100  & 0.1500503 \\\\\n",
       "\t C          & 0.14151493 & 0.13682120 & 0.7216639  & 0.2653603 \\\\\n",
       "\t D          & 0.13545005 & 0.11928552 & 0.7452644  & 0.2205329 \\\\\n",
       "\t T          & 0.12148757 & 0.10661996 & 0.7718925  & 0.2138592 \\\\\n",
       "\\end{tabular}\n"
      ],
      "text/markdown": [
       "\n",
       "ps | Artiodactyla | Rodentia | Lagomorpha | meanDist | \n",
       "|---|---|---|---|---|\n",
       "| A          | 0.13074305 | 0.05502857 | 0.8142284  | 0.1607769  | \n",
       "| B          | 0.06940074 | 0.08998923 | 0.8406100  | 0.1500503  | \n",
       "| C          | 0.14151493 | 0.13682120 | 0.7216639  | 0.2653603  | \n",
       "| D          | 0.13545005 | 0.11928552 | 0.7452644  | 0.2205329  | \n",
       "| T          | 0.12148757 | 0.10661996 | 0.7718925  | 0.2138592  | \n",
       "\n",
       "\n"
      ],
      "text/plain": [
       "  ps Artiodactyla Rodentia   Lagomorpha meanDist \n",
       "1 A  0.13074305   0.05502857 0.8142284  0.1607769\n",
       "2 B  0.06940074   0.08998923 0.8406100  0.1500503\n",
       "3 C  0.14151493   0.13682120 0.7216639  0.2653603\n",
       "4 D  0.13545005   0.11928552 0.7452644  0.2205329\n",
       "5 T  0.12148757   0.10661996 0.7718925  0.2138592"
      ]
     },
     "metadata": {},
     "output_type": "display_data"
    }
   ],
   "source": [
    "dfCentroids"
   ]
  },
  {
   "cell_type": "markdown",
   "metadata": {},
   "source": [
    "## Randomization Testing of Pairwise Period Differences"
   ]
  },
  {
   "cell_type": "code",
   "execution_count": 50,
   "metadata": {},
   "outputs": [
    {
     "data": {
      "text/html": [
       "<ol class=list-inline>\n",
       "\t<li>0.13074305235</li>\n",
       "\t<li>0.0550285732</li>\n",
       "\t<li>0.81422837435</li>\n",
       "</ol>\n"
      ],
      "text/latex": [
       "\\begin{enumerate*}\n",
       "\\item 0.13074305235\n",
       "\\item 0.0550285732\n",
       "\\item 0.81422837435\n",
       "\\end{enumerate*}\n"
      ],
      "text/markdown": [
       "1. 0.13074305235\n",
       "2. 0.0550285732\n",
       "3. 0.81422837435\n",
       "\n",
       "\n"
      ],
      "text/plain": [
       "[1] 0.13074305 0.05502857 0.81422837"
      ]
     },
     "metadata": {},
     "output_type": "display_data"
    }
   ],
   "source": [
    "getCentroid <- function(df)\n",
    "{\n",
    "    c(mean(df$Artiodactyla), mean(df$Rodentia), mean(df$Lagomorpha))\n",
    "}"
   ]
  },
  {
   "cell_type": "code",
   "execution_count": 95,
   "metadata": {},
   "outputs": [],
   "source": [
    "randomizationTestPeriodDistance <- function(period1, period2)\n",
    "{\n",
    "    # set repeat count and create vector to hold distances\n",
    "    Nrepeats <- 10000\n",
    "    distances <- numeric(Nrepeats) \n",
    "\n",
    "    # get distance between period centroids\n",
    "    p1Centroid <- getCentroid(period1)\n",
    "    p2Centroid <- getCentroid(period2)\n",
    "    periodDist <- distance3D(p1Centroid, p2Centroid)\n",
    "\n",
    "    # get lengths\n",
    "    N1 <- nrow(period1)\n",
    "    N2 <- nrow(period2)\n",
    "\n",
    "    # loop\n",
    "    for (i in 1:Nrepeats) {\n",
    "        # create pooled dataframe\n",
    "        dataPooled <- rbind(period1, period2)\n",
    "\n",
    "        # shuffle the dataframe\n",
    "        testFrame <- dataPooled[sample(nrow(dataPooled)),]\n",
    "\n",
    "        # split the shuffled dataframe into two frames matching the sizes of the originals\n",
    "        testSubset1 <- testFrame[1:N1,]\n",
    "        testSubset2 <- testFrame[(N1 + 1):(N1 + N2),]\n",
    "\n",
    "        # compare the centroids of the subsets\n",
    "        test1Centroid <- getCentroid(testSubset1)\n",
    "        test2Centroid <- getCentroid(testSubset2)\n",
    "        distances[i] <- distance3D(test1Centroid, test2Centroid)\n",
    "    }\n",
    "\n",
    "    meetExceedDistances <- distances[distances >= periodDist]\n",
    "    nMeetExceed <- length(meetExceedDistances)\n",
    "    p <- nMeetExceed / Nrepeats\n",
    "    print(sprintf(\"%s of %s random splits have distances meeting or exceeding the actual value (p = %s)\", nMeetExceed, Nrepeats, p))\n",
    "    distances\n",
    "}"
   ]
  },
  {
   "cell_type": "code",
   "execution_count": 105,
   "metadata": {},
   "outputs": [
    {
     "name": "stdout",
     "output_type": "stream",
     "text": [
      "[1] \"2412 of 10000 random splits have distances meeting or exceeding the actual value (p = 0.2412)\"\n"
     ]
    }
   ],
   "source": [
    "ABdists <- randomizationTestPeriodDistance(periodA, periodB)"
   ]
  },
  {
   "cell_type": "code",
   "execution_count": 114,
   "metadata": {},
   "outputs": [
    {
     "name": "stdout",
     "output_type": "stream",
     "text": [
      "[1] \"171 of 10000 random splits have distances meeting or exceeding the actual value (p = 0.0171)\"\n"
     ]
    }
   ],
   "source": [
    "BCdists <- randomizationTestPeriodDistance(periodB, periodC)"
   ]
  },
  {
   "cell_type": "code",
   "execution_count": 107,
   "metadata": {},
   "outputs": [
    {
     "name": "stdout",
     "output_type": "stream",
     "text": [
      "[1] \"8183 of 10000 random splits have distances meeting or exceeding the actual value (p = 0.8183)\"\n"
     ]
    }
   ],
   "source": [
    "CDdists <- randomizationTestPeriodDistance(periodC, periodD)"
   ]
  },
  {
   "cell_type": "code",
   "execution_count": null,
   "metadata": {},
   "outputs": [],
   "source": []
  }
 ],
 "metadata": {
  "kernelspec": {
   "display_name": "R",
   "language": "R",
   "name": "ir"
  },
  "language_info": {
   "codemirror_mode": "r",
   "file_extension": ".r",
   "mimetype": "text/x-r-source",
   "name": "R",
   "pygments_lexer": "r",
   "version": "3.5.1"
  }
 },
 "nbformat": 4,
 "nbformat_minor": 2
}
