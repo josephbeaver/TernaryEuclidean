{
 "cells": [
  {
   "cell_type": "code",
   "execution_count": 1,
   "metadata": {},
   "outputs": [],
   "source": [
    "dataAll <- read.csv(\"maindata.csv\", header=TRUE)"
   ]
  },
  {
   "cell_type": "code",
   "execution_count": 2,
   "metadata": {},
   "outputs": [
    {
     "data": {
      "text/html": [
       "<table>\n",
       "<thead><tr><th scope=col>ï..Site</th><th scope=col>PeriodCode</th><th scope=col>SimpPeriodCode</th><th scope=col>SiteNum</th><th scope=col>Lagomorpha</th><th scope=col>Artiodactyla</th><th scope=col>Rodentia</th></tr></thead>\n",
       "<tbody>\n",
       "\t<tr><td>Los Pozos - Sweetwater Locus</td><td>1                           </td><td>A                           </td><td>AZ AA:12:91 (ASM)           </td><td>0.7846154                   </td><td>0.18461538                  </td><td>0.03076923                  </td></tr>\n",
       "\t<tr><td>Arroyo Site                 </td><td>1                           </td><td>A                           </td><td>AZ AA:3:28 (ASM)            </td><td>0.8955224                   </td><td>0.08955224                  </td><td>0.01492537                  </td></tr>\n",
       "\t<tr><td>Gate Site                   </td><td>1                           </td><td>A                           </td><td>AZ AA:3:8 (ASM)             </td><td>0.9111111                   </td><td>0.02222222                  </td><td>0.06666667                  </td></tr>\n",
       "\t<tr><td>Lookout Site                </td><td>1                           </td><td>A                           </td><td>AZ S:7:30 (ASM)             </td><td>0.9218750                   </td><td>0.01562500                  </td><td>0.06250000                  </td></tr>\n",
       "\t<tr><td>Willow Ridge Site           </td><td>2                           </td><td>A                           </td><td>AZ AA:12:968 (ASM)          </td><td>0.2702703                   </td><td>0.71171171                  </td><td>0.01801802                  </td></tr>\n",
       "\t<tr><td>Valley Farms                </td><td>2                           </td><td>A                           </td><td>?                           </td><td>0.6525424                   </td><td>0.14406780                  </td><td>0.20338983                  </td></tr>\n",
       "</tbody>\n",
       "</table>\n"
      ],
      "text/latex": [
       "\\begin{tabular}{r|lllllll}\n",
       " ï..Site & PeriodCode & SimpPeriodCode & SiteNum & Lagomorpha & Artiodactyla & Rodentia\\\\\n",
       "\\hline\n",
       "\t Los Pozos - Sweetwater Locus & 1                            & A                            & AZ AA:12:91 (ASM)            & 0.7846154                    & 0.18461538                   & 0.03076923                  \\\\\n",
       "\t Arroyo Site                  & 1                            & A                            & AZ AA:3:28 (ASM)             & 0.8955224                    & 0.08955224                   & 0.01492537                  \\\\\n",
       "\t Gate Site                    & 1                            & A                            & AZ AA:3:8 (ASM)              & 0.9111111                    & 0.02222222                   & 0.06666667                  \\\\\n",
       "\t Lookout Site                 & 1                            & A                            & AZ S:7:30 (ASM)              & 0.9218750                    & 0.01562500                   & 0.06250000                  \\\\\n",
       "\t Willow Ridge Site            & 2                            & A                            & AZ AA:12:968 (ASM)           & 0.2702703                    & 0.71171171                   & 0.01801802                  \\\\\n",
       "\t Valley Farms                 & 2                            & A                            & ?                            & 0.6525424                    & 0.14406780                   & 0.20338983                  \\\\\n",
       "\\end{tabular}\n"
      ],
      "text/markdown": [
       "\n",
       "ï..Site | PeriodCode | SimpPeriodCode | SiteNum | Lagomorpha | Artiodactyla | Rodentia | \n",
       "|---|---|---|---|---|---|\n",
       "| Los Pozos - Sweetwater Locus | 1                            | A                            | AZ AA:12:91 (ASM)            | 0.7846154                    | 0.18461538                   | 0.03076923                   | \n",
       "| Arroyo Site                  | 1                            | A                            | AZ AA:3:28 (ASM)             | 0.8955224                    | 0.08955224                   | 0.01492537                   | \n",
       "| Gate Site                    | 1                            | A                            | AZ AA:3:8 (ASM)              | 0.9111111                    | 0.02222222                   | 0.06666667                   | \n",
       "| Lookout Site                 | 1                            | A                            | AZ S:7:30 (ASM)              | 0.9218750                    | 0.01562500                   | 0.06250000                   | \n",
       "| Willow Ridge Site            | 2                            | A                            | AZ AA:12:968 (ASM)           | 0.2702703                    | 0.71171171                   | 0.01801802                   | \n",
       "| Valley Farms                 | 2                            | A                            | ?                            | 0.6525424                    | 0.14406780                   | 0.20338983                   | \n",
       "\n",
       "\n"
      ],
      "text/plain": [
       "  ï..Site                      PeriodCode SimpPeriodCode SiteNum           \n",
       "1 Los Pozos - Sweetwater Locus 1          A              AZ AA:12:91 (ASM) \n",
       "2 Arroyo Site                  1          A              AZ AA:3:28 (ASM)  \n",
       "3 Gate Site                    1          A              AZ AA:3:8 (ASM)   \n",
       "4 Lookout Site                 1          A              AZ S:7:30 (ASM)   \n",
       "5 Willow Ridge Site            2          A              AZ AA:12:968 (ASM)\n",
       "6 Valley Farms                 2          A              ?                 \n",
       "  Lagomorpha Artiodactyla Rodentia  \n",
       "1 0.7846154  0.18461538   0.03076923\n",
       "2 0.8955224  0.08955224   0.01492537\n",
       "3 0.9111111  0.02222222   0.06666667\n",
       "4 0.9218750  0.01562500   0.06250000\n",
       "5 0.2702703  0.71171171   0.01801802\n",
       "6 0.6525424  0.14406780   0.20338983"
      ]
     },
     "metadata": {},
     "output_type": "display_data"
    }
   ],
   "source": [
    "head(dataAll)"
   ]
  },
  {
   "cell_type": "markdown",
   "metadata": {},
   "source": [
    "### Full Data Centroid:"
   ]
  },
  {
   "cell_type": "code",
   "execution_count": 3,
   "metadata": {},
   "outputs": [
    {
     "data": {
      "text/html": [
       "<ol class=list-inline>\n",
       "\t<li>0.771892468041322</li>\n",
       "\t<li>0.121487570454545</li>\n",
       "\t<li>0.106619961471074</li>\n",
       "</ol>\n"
      ],
      "text/latex": [
       "\\begin{enumerate*}\n",
       "\\item 0.771892468041322\n",
       "\\item 0.121487570454545\n",
       "\\item 0.106619961471074\n",
       "\\end{enumerate*}\n"
      ],
      "text/markdown": [
       "1. 0.771892468041322\n",
       "2. 0.121487570454545\n",
       "3. 0.106619961471074\n",
       "\n",
       "\n"
      ],
      "text/plain": [
       "[1] 0.7718925 0.1214876 0.1066200"
      ]
     },
     "metadata": {},
     "output_type": "display_data"
    }
   ],
   "source": [
    "centroidTotal = c(mean(dataAll$Lagomorpha), mean(dataAll$Artiodactyla), mean(dataAll$Rodentia))\n",
    "centroidTotal"
   ]
  },
  {
   "cell_type": "code",
   "execution_count": 4,
   "metadata": {},
   "outputs": [],
   "source": [
    "periodA = subset(dataAll, SimpPeriodCode == \"A\")"
   ]
  },
  {
   "cell_type": "code",
   "execution_count": 5,
   "metadata": {},
   "outputs": [],
   "source": [
    "periodB = subset(dataAll, SimpPeriodCode == \"B\")"
   ]
  },
  {
   "cell_type": "code",
   "execution_count": 6,
   "metadata": {},
   "outputs": [],
   "source": [
    "periodC = subset(dataAll, SimpPeriodCode == \"C\")"
   ]
  },
  {
   "cell_type": "code",
   "execution_count": 7,
   "metadata": {},
   "outputs": [],
   "source": [
    "periodD = subset(dataAll, SimpPeriodCode == \"D\")"
   ]
  },
  {
   "cell_type": "markdown",
   "metadata": {},
   "source": [
    "### Middle and Late Archaic Centroid:"
   ]
  },
  {
   "cell_type": "code",
   "execution_count": 8,
   "metadata": {},
   "outputs": [
    {
     "data": {
      "text/html": [
       "<ol class=list-inline>\n",
       "\t<li>0.81422837435</li>\n",
       "\t<li>0.13074305235</li>\n",
       "\t<li>0.0550285732</li>\n",
       "</ol>\n"
      ],
      "text/latex": [
       "\\begin{enumerate*}\n",
       "\\item 0.81422837435\n",
       "\\item 0.13074305235\n",
       "\\item 0.0550285732\n",
       "\\end{enumerate*}\n"
      ],
      "text/markdown": [
       "1. 0.81422837435\n",
       "2. 0.13074305235\n",
       "3. 0.0550285732\n",
       "\n",
       "\n"
      ],
      "text/plain": [
       "[1] 0.81422837 0.13074305 0.05502857"
      ]
     },
     "metadata": {},
     "output_type": "display_data"
    }
   ],
   "source": [
    "centroidA = c(mean(periodA$Lagomorpha), mean(periodA$Artiodactyla), mean(periodA$Rodentia))\n",
    "centroidA"
   ]
  },
  {
   "cell_type": "markdown",
   "metadata": {},
   "source": [
    "### Pioneer, Early Ceramic, and Colonial Centroid:"
   ]
  },
  {
   "cell_type": "code",
   "execution_count": 9,
   "metadata": {},
   "outputs": [
    {
     "data": {
      "text/html": [
       "<ol class=list-inline>\n",
       "\t<li>0.840610024</li>\n",
       "\t<li>0.0694007429259259</li>\n",
       "\t<li>0.089989233037037</li>\n",
       "</ol>\n"
      ],
      "text/latex": [
       "\\begin{enumerate*}\n",
       "\\item 0.840610024\n",
       "\\item 0.0694007429259259\n",
       "\\item 0.089989233037037\n",
       "\\end{enumerate*}\n"
      ],
      "text/markdown": [
       "1. 0.840610024\n",
       "2. 0.0694007429259259\n",
       "3. 0.089989233037037\n",
       "\n",
       "\n"
      ],
      "text/plain": [
       "[1] 0.84061002 0.06940074 0.08998923"
      ]
     },
     "metadata": {},
     "output_type": "display_data"
    }
   ],
   "source": [
    "centroidB = c(mean(periodB$Lagomorpha), mean(periodB$Artiodactyla), mean(periodB$Rodentia))\n",
    "centroidB"
   ]
  },
  {
   "cell_type": "markdown",
   "metadata": {},
   "source": [
    "### Sedentary Centroid:"
   ]
  },
  {
   "cell_type": "code",
   "execution_count": 10,
   "metadata": {},
   "outputs": [
    {
     "data": {
      "text/html": [
       "<ol class=list-inline>\n",
       "\t<li>0.72166386516129</li>\n",
       "\t<li>0.141514930516129</li>\n",
       "\t<li>0.136821204258065</li>\n",
       "</ol>\n"
      ],
      "text/latex": [
       "\\begin{enumerate*}\n",
       "\\item 0.72166386516129\n",
       "\\item 0.141514930516129\n",
       "\\item 0.136821204258065\n",
       "\\end{enumerate*}\n"
      ],
      "text/markdown": [
       "1. 0.72166386516129\n",
       "2. 0.141514930516129\n",
       "3. 0.136821204258065\n",
       "\n",
       "\n"
      ],
      "text/plain": [
       "[1] 0.7216639 0.1415149 0.1368212"
      ]
     },
     "metadata": {},
     "output_type": "display_data"
    }
   ],
   "source": [
    "centroidC = c(mean(periodC$Lagomorpha), mean(periodC$Artiodactyla), mean(periodC$Rodentia))\n",
    "centroidC"
   ]
  },
  {
   "cell_type": "markdown",
   "metadata": {},
   "source": [
    "### Classic Centroid:"
   ]
  },
  {
   "cell_type": "code",
   "execution_count": 11,
   "metadata": {},
   "outputs": [
    {
     "data": {
      "text/html": [
       "<ol class=list-inline>\n",
       "\t<li>0.745264434372093</li>\n",
       "\t<li>0.135450048209302</li>\n",
       "\t<li>0.11928551744186</li>\n",
       "</ol>\n"
      ],
      "text/latex": [
       "\\begin{enumerate*}\n",
       "\\item 0.745264434372093\n",
       "\\item 0.135450048209302\n",
       "\\item 0.11928551744186\n",
       "\\end{enumerate*}\n"
      ],
      "text/markdown": [
       "1. 0.745264434372093\n",
       "2. 0.135450048209302\n",
       "3. 0.11928551744186\n",
       "\n",
       "\n"
      ],
      "text/plain": [
       "[1] 0.7452644 0.1354500 0.1192855"
      ]
     },
     "metadata": {},
     "output_type": "display_data"
    }
   ],
   "source": [
    "centroidD = c(mean(periodD$Lagomorpha), mean(periodD$Artiodactyla), mean(periodD$Rodentia))\n",
    "centroidD"
   ]
  },
  {
   "cell_type": "code",
   "execution_count": 12,
   "metadata": {},
   "outputs": [
    {
     "name": "stderr",
     "output_type": "stream",
     "text": [
      "Loading required package: ggplot2\n",
      "--\n",
      "Consider donating at: http://ggtern.com\n",
      "Even small amounts (say $10-50) are very much appreciated!\n",
      "Remember to cite, run citation(package = 'ggtern') for further info.\n",
      "--\n",
      "\n",
      "Attaching package: 'ggtern'\n",
      "\n",
      "The following objects are masked from 'package:ggplot2':\n",
      "\n",
      "    aes, annotate, calc_element, ggplot, ggplot_build, ggplot_gtable,\n",
      "    ggplotGrob, ggsave, layer_data, layer_grob, layer_scales, theme,\n",
      "    theme_bw, theme_classic, theme_dark, theme_get, theme_gray,\n",
      "    theme_light, theme_linedraw, theme_minimal, theme_set, theme_void\n",
      "\n"
     ]
    }
   ],
   "source": [
    "library(\"ggtern\")\n",
    "options(warn = -1)  #The stuff below produces an insane amount of warning messages - be careful that real problems aren't being hidden by this!"
   ]
  },
  {
   "cell_type": "markdown",
   "metadata": {},
   "source": [
    "### Full Dataset Ternary Plot"
   ]
  },
  {
   "cell_type": "code",
   "execution_count": 13,
   "metadata": {},
   "outputs": [
    {
     "data": {},
     "metadata": {},
     "output_type": "display_data"
    },
    {
     "data": {
      "image/png": "[encoded data removed]",
      "text/plain": [
       "plot without title"
      ]
     },
     "metadata": {},
     "output_type": "display_data"
    }
   ],
   "source": [
    "ggtern(data=dataAll,aes(Artiodactyla, Rodentia, Lagomorpha)) + \n",
    "geom_point() +\n",
    "theme_linedraw(base_size = 18, base_family = \"\") +\n",
    "scale_T_continuous(name = \"\", limits = c(0,1), breaks = c(0, .5, 1), minor_breaks = NULL, labels = c(\"0\", \"50\", \"100\")) +\n",
    "scale_R_continuous(name = \"\", limits = c(0,1), breaks = c(0, .5, 1), minor_breaks = NULL, labels = c(\"0\", \"50\", \"100\")) +\n",
    "scale_L_continuous(name = \"\", limits = c(0,1), breaks = c(0, .5, 1), minor_breaks = NULL, labels = c(\"0\", \"50\", \"100\")) +\n",
    "Tarrowlab(\"% Rodentia\") + Rarrowlab(\"% Lagomorpha\") + Larrowlab(\"% Artiodactyla\") + theme_showarrows()"
   ]
  },
  {
   "cell_type": "code",
   "execution_count": 14,
   "metadata": {},
   "outputs": [
    {
     "data": {
      "text/html": [
       "<table>\n",
       "<thead><tr><th scope=col>ps</th><th scope=col>as</th><th scope=col>rs</th><th scope=col>ls</th></tr></thead>\n",
       "<tbody>\n",
       "\t<tr><td>A         </td><td>0.13074305</td><td>0.05502857</td><td>0.8142284 </td></tr>\n",
       "\t<tr><td>B         </td><td>0.06940074</td><td>0.08998923</td><td>0.8406100 </td></tr>\n",
       "\t<tr><td>C         </td><td>0.14151493</td><td>0.13682120</td><td>0.7216639 </td></tr>\n",
       "\t<tr><td>D         </td><td>0.13545005</td><td>0.11928552</td><td>0.7452644 </td></tr>\n",
       "\t<tr><td>T         </td><td>0.12148757</td><td>0.10661996</td><td>0.7718925 </td></tr>\n",
       "</tbody>\n",
       "</table>\n"
      ],
      "text/latex": [
       "\\begin{tabular}{r|llll}\n",
       " ps & as & rs & ls\\\\\n",
       "\\hline\n",
       "\t A          & 0.13074305 & 0.05502857 & 0.8142284 \\\\\n",
       "\t B          & 0.06940074 & 0.08998923 & 0.8406100 \\\\\n",
       "\t C          & 0.14151493 & 0.13682120 & 0.7216639 \\\\\n",
       "\t D          & 0.13545005 & 0.11928552 & 0.7452644 \\\\\n",
       "\t T          & 0.12148757 & 0.10661996 & 0.7718925 \\\\\n",
       "\\end{tabular}\n"
      ],
      "text/markdown": [
       "\n",
       "ps | as | rs | ls | \n",
       "|---|---|---|---|---|\n",
       "| A          | 0.13074305 | 0.05502857 | 0.8142284  | \n",
       "| B          | 0.06940074 | 0.08998923 | 0.8406100  | \n",
       "| C          | 0.14151493 | 0.13682120 | 0.7216639  | \n",
       "| D          | 0.13545005 | 0.11928552 | 0.7452644  | \n",
       "| T          | 0.12148757 | 0.10661996 | 0.7718925  | \n",
       "\n",
       "\n"
      ],
      "text/plain": [
       "  ps as         rs         ls       \n",
       "1 A  0.13074305 0.05502857 0.8142284\n",
       "2 B  0.06940074 0.08998923 0.8406100\n",
       "3 C  0.14151493 0.13682120 0.7216639\n",
       "4 D  0.13545005 0.11928552 0.7452644\n",
       "5 T  0.12148757 0.10661996 0.7718925"
      ]
     },
     "metadata": {},
     "output_type": "display_data"
    }
   ],
   "source": [
    "ps = c(\"A\", \"B\", \"C\", \"D\", \"T\")\n",
    "ls = c(centroidA[1], centroidB[1], centroidC[1], centroidD[1], centroidTotal[1])\n",
    "as = c(centroidA[2], centroidB[2], centroidC[2], centroidD[2], centroidTotal[2])\n",
    "rs = c(centroidA[3], centroidB[3], centroidC[3], centroidD[3], centroidTotal[3])\n",
    "dfCentroids = data.frame(ps, as, rs, ls)\n",
    "dfCentroids"
   ]
  },
  {
   "cell_type": "markdown",
   "metadata": {},
   "source": [
    "### Centroids for time periods (and overall) Plot"
   ]
  },
  {
   "cell_type": "code",
   "execution_count": 15,
   "metadata": {},
   "outputs": [
    {
     "data": {},
     "metadata": {},
     "output_type": "display_data"
    },
    {
     "data": {
      "image/png": "[encoded data removed]",
      "text/plain": [
       "plot without title"
      ]
     },
     "metadata": {},
     "output_type": "display_data"
    }
   ],
   "source": [
    "ggtern(data=dfCentroids,aes(as, rs, ls, label=ps)) + \n",
    "geom_text() +\n",
    "theme_linedraw(base_size = 18, base_family = \"\") +\n",
    "scale_T_continuous(name = \"\", limits = c(0,1), breaks = c(0, .5, 1), minor_breaks = NULL, labels = c(\"0\", \"50\", \"100\")) +\n",
    "scale_R_continuous(name = \"\", limits = c(0,1), breaks = c(0, .5, 1), minor_breaks = NULL, labels = c(\"0\", \"50\", \"100\")) +\n",
    "scale_L_continuous(name = \"\", limits = c(0,1), breaks = c(0, .5, 1), minor_breaks = NULL, labels = c(\"0\", \"50\", \"100\")) +\n",
    "Tarrowlab(\"% Rodentia\") + Rarrowlab(\"% Lagomorpha\") + Larrowlab(\"% Artiodactyla\") + theme_showarrows()"
   ]
  },
  {
   "cell_type": "markdown",
   "metadata": {},
   "source": [
    "### Time Period Plots"
   ]
  },
  {
   "cell_type": "code",
   "execution_count": 16,
   "metadata": {},
   "outputs": [
    {
     "data": {},
     "metadata": {},
     "output_type": "display_data"
    },
    {
     "data": {
      "image/png": "[encoded data removed]",
      "text/plain": [
       "plot without title"
      ]
     },
     "metadata": {},
     "output_type": "display_data"
    }
   ],
   "source": [
    "ggtern(data=dataAll,aes(Artiodactyla, Rodentia, Lagomorpha)) + \n",
    "geom_point() +\n",
    "facet_wrap(\"SimpPeriodCode\") +\n",
    "theme_linedraw(base_size = 14, base_family = \"\") +\n",
    "scale_T_continuous(name = \"\", limits = c(0,1), breaks = c(0, .5, 1), minor_breaks = NULL, labels = c(\"0\", \"50\", \"100\")) +\n",
    "scale_R_continuous(name = \"\", limits = c(0,1), breaks = c(0, .5, 1), minor_breaks = NULL, labels = c(\"0\", \"50\", \"100\")) +\n",
    "scale_L_continuous(name = \"\", limits = c(0,1), breaks = c(0, .5, 1), minor_breaks = NULL, labels = c(\"0\", \"50\", \"100\")) +\n",
    "Tarrowlab(\"% Rodentia\") + Rarrowlab(\"% Lagomorpha\") + Larrowlab(\"% Artiodactyla\") + theme_showarrows()\n"
   ]
  },
  {
   "cell_type": "markdown",
   "metadata": {},
   "source": [
    "## Add distance from centroid column"
   ]
  },
  {
   "cell_type": "code",
   "execution_count": 17,
   "metadata": {},
   "outputs": [],
   "source": [
    "dataAll$distance <- sqrt((dataAll$Lagomorpha - centroidTotal[1])^2 + (dataAll$Artiodactyla - centroidTotal[2])^2 + (dataAll$Rodentia - centroidTotal[3])^2)"
   ]
  },
  {
   "cell_type": "code",
   "execution_count": 18,
   "metadata": {},
   "outputs": [
    {
     "data": {
      "text/html": [
       "<table>\n",
       "<thead><tr><th scope=col>ï..Site</th><th scope=col>PeriodCode</th><th scope=col>SimpPeriodCode</th><th scope=col>SiteNum</th><th scope=col>Lagomorpha</th><th scope=col>Artiodactyla</th><th scope=col>Rodentia</th><th scope=col>distance</th></tr></thead>\n",
       "<tbody>\n",
       "\t<tr><td>Los Pozos - Sweetwater Locus</td><td>1                           </td><td>A                           </td><td>AZ AA:12:91 (ASM)           </td><td>0.7846154                   </td><td>0.18461538                  </td><td>0.03076923                  </td><td>0.09950039                  </td></tr>\n",
       "\t<tr><td>Arroyo Site                 </td><td>1                           </td><td>A                           </td><td>AZ AA:3:28 (ASM)            </td><td>0.8955224                   </td><td>0.08955224                  </td><td>0.01492537                  </td><td>0.15720089                  </td></tr>\n",
       "\t<tr><td>Gate Site                   </td><td>1                           </td><td>A                           </td><td>AZ AA:3:8 (ASM)             </td><td>0.9111111                   </td><td>0.02222222                  </td><td>0.06666667                  </td><td>0.17558959                  </td></tr>\n",
       "\t<tr><td>Lookout Site                </td><td>1                           </td><td>A                           </td><td>AZ S:7:30 (ASM)             </td><td>0.9218750                   </td><td>0.01562500                  </td><td>0.06250000                  </td><td>0.18880735                  </td></tr>\n",
       "\t<tr><td>Willow Ridge Site           </td><td>2                           </td><td>A                           </td><td>AZ AA:12:968 (ASM)          </td><td>0.2702703                   </td><td>0.71171171                  </td><td>0.01801802                  </td><td>0.77964073                  </td></tr>\n",
       "\t<tr><td>Valley Farms                </td><td>2                           </td><td>A                           </td><td>?                           </td><td>0.6525424                   </td><td>0.14406780                  </td><td>0.20338983                  </td><td>0.15530203                  </td></tr>\n",
       "</tbody>\n",
       "</table>\n"
      ],
      "text/latex": [
       "\\begin{tabular}{r|llllllll}\n",
       " ï..Site & PeriodCode & SimpPeriodCode & SiteNum & Lagomorpha & Artiodactyla & Rodentia & distance\\\\\n",
       "\\hline\n",
       "\t Los Pozos - Sweetwater Locus & 1                            & A                            & AZ AA:12:91 (ASM)            & 0.7846154                    & 0.18461538                   & 0.03076923                   & 0.09950039                  \\\\\n",
       "\t Arroyo Site                  & 1                            & A                            & AZ AA:3:28 (ASM)             & 0.8955224                    & 0.08955224                   & 0.01492537                   & 0.15720089                  \\\\\n",
       "\t Gate Site                    & 1                            & A                            & AZ AA:3:8 (ASM)              & 0.9111111                    & 0.02222222                   & 0.06666667                   & 0.17558959                  \\\\\n",
       "\t Lookout Site                 & 1                            & A                            & AZ S:7:30 (ASM)              & 0.9218750                    & 0.01562500                   & 0.06250000                   & 0.18880735                  \\\\\n",
       "\t Willow Ridge Site            & 2                            & A                            & AZ AA:12:968 (ASM)           & 0.2702703                    & 0.71171171                   & 0.01801802                   & 0.77964073                  \\\\\n",
       "\t Valley Farms                 & 2                            & A                            & ?                            & 0.6525424                    & 0.14406780                   & 0.20338983                   & 0.15530203                  \\\\\n",
       "\\end{tabular}\n"
      ],
      "text/markdown": [
       "\n",
       "ï..Site | PeriodCode | SimpPeriodCode | SiteNum | Lagomorpha | Artiodactyla | Rodentia | distance | \n",
       "|---|---|---|---|---|---|\n",
       "| Los Pozos - Sweetwater Locus | 1                            | A                            | AZ AA:12:91 (ASM)            | 0.7846154                    | 0.18461538                   | 0.03076923                   | 0.09950039                   | \n",
       "| Arroyo Site                  | 1                            | A                            | AZ AA:3:28 (ASM)             | 0.8955224                    | 0.08955224                   | 0.01492537                   | 0.15720089                   | \n",
       "| Gate Site                    | 1                            | A                            | AZ AA:3:8 (ASM)              | 0.9111111                    | 0.02222222                   | 0.06666667                   | 0.17558959                   | \n",
       "| Lookout Site                 | 1                            | A                            | AZ S:7:30 (ASM)              | 0.9218750                    | 0.01562500                   | 0.06250000                   | 0.18880735                   | \n",
       "| Willow Ridge Site            | 2                            | A                            | AZ AA:12:968 (ASM)           | 0.2702703                    | 0.71171171                   | 0.01801802                   | 0.77964073                   | \n",
       "| Valley Farms                 | 2                            | A                            | ?                            | 0.6525424                    | 0.14406780                   | 0.20338983                   | 0.15530203                   | \n",
       "\n",
       "\n"
      ],
      "text/plain": [
       "  ï..Site                      PeriodCode SimpPeriodCode SiteNum           \n",
       "1 Los Pozos - Sweetwater Locus 1          A              AZ AA:12:91 (ASM) \n",
       "2 Arroyo Site                  1          A              AZ AA:3:28 (ASM)  \n",
       "3 Gate Site                    1          A              AZ AA:3:8 (ASM)   \n",
       "4 Lookout Site                 1          A              AZ S:7:30 (ASM)   \n",
       "5 Willow Ridge Site            2          A              AZ AA:12:968 (ASM)\n",
       "6 Valley Farms                 2          A              ?                 \n",
       "  Lagomorpha Artiodactyla Rodentia   distance  \n",
       "1 0.7846154  0.18461538   0.03076923 0.09950039\n",
       "2 0.8955224  0.08955224   0.01492537 0.15720089\n",
       "3 0.9111111  0.02222222   0.06666667 0.17558959\n",
       "4 0.9218750  0.01562500   0.06250000 0.18880735\n",
       "5 0.2702703  0.71171171   0.01801802 0.77964073\n",
       "6 0.6525424  0.14406780   0.20338983 0.15530203"
      ]
     },
     "metadata": {},
     "output_type": "display_data"
    }
   ],
   "source": [
    "head(dataAll)"
   ]
  },
  {
   "cell_type": "code",
   "execution_count": 19,
   "metadata": {},
   "outputs": [
    {
     "data": {
      "image/png": "[encoded data removed]",
      "text/plain": [
       "Plot with title \"Histogram of dataAll$distance\""
      ]
     },
     "metadata": {},
     "output_type": "display_data"
    }
   ],
   "source": [
    "hist(dataAll$distance)"
   ]
  },
  {
   "cell_type": "code",
   "execution_count": null,
   "metadata": {},
   "outputs": [],
   "source": []
  }
 ],
 "metadata": {
  "kernelspec": {
   "display_name": "R",
   "language": "R",
   "name": "ir"
  },
  "language_info": {
   "codemirror_mode": "r",
   "file_extension": ".r",
   "mimetype": "text/x-r-source",
   "name": "R",
   "pygments_lexer": "r",
   "version": "3.5.1"
  }
 },
 "nbformat": 4,
 "nbformat_minor": 2
}
