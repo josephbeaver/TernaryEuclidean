{
 "cells": [
  {
   "cell_type": "code",
   "execution_count": 2,
   "metadata": {},
   "outputs": [],
   "source": [
    "options(warn = -1)"
   ]
  },
  {
   "cell_type": "code",
   "execution_count": 3,
   "metadata": {
    "scrolled": true
   },
   "outputs": [
    {
     "name": "stderr",
     "output_type": "stream",
     "text": [
      "Loading required package: ggplot2\n",
      "--\n",
      "Consider donating at: http://ggtern.com\n",
      "Even small amounts (say $10-50) are very much appreciated!\n",
      "Remember to cite, run citation(package = 'ggtern') for further info.\n",
      "--\n",
      "\n",
      "Attaching package: 'ggtern'\n",
      "\n",
      "The following objects are masked from 'package:ggplot2':\n",
      "\n",
      "    aes, annotate, calc_element, ggplot, ggplot_build, ggplot_gtable,\n",
      "    ggplotGrob, ggsave, layer_data, layer_grob, layer_scales, theme,\n",
      "    theme_bw, theme_classic, theme_dark, theme_get, theme_gray,\n",
      "    theme_light, theme_linedraw, theme_minimal, theme_set, theme_void\n",
      "\n"
     ]
    }
   ],
   "source": [
    "library(\"ggtern\")"
   ]
  },
  {
   "cell_type": "code",
   "execution_count": 4,
   "metadata": {},
   "outputs": [],
   "source": [
    "data(\"Feldspar\")"
   ]
  },
  {
   "cell_type": "code",
   "execution_count": 5,
   "metadata": {},
   "outputs": [
    {
     "data": {
      "text/plain": [
       "<ScaleContinuousPosition>\n",
       " Range:  \n",
       " Limits:    0 --    1"
      ]
     },
     "metadata": {},
     "output_type": "display_data"
    }
   ],
   "source": [
    "scale_T_continuous(name = \"Test T\", limits = c(0,1), breaks = c(0, .333, .667, 1), minor_breaks = NULL, labels = c(\"0\", \"1/3\", \"2/3\", \"1\"))"
   ]
  },
  {
   "cell_type": "code",
   "execution_count": 6,
   "metadata": {},
   "outputs": [],
   "source": [
    "base = ggtern(data=Feldspar,aes(Ab,An,Or))"
   ]
  },
  {
   "cell_type": "markdown",
   "metadata": {},
   "source": [
    "### Note: Still haven't figured out if there's a way to change the line weights."
   ]
  },
  {
   "cell_type": "code",
   "execution_count": 7,
   "metadata": {},
   "outputs": [
    {
     "data": {},
     "metadata": {},
     "output_type": "display_data"
    },
    {
     "data": {
      "image/png": "[encoded data removed]",
      "text/plain": [
       "plot without title"
      ]
     },
     "metadata": {},
     "output_type": "display_data"
    }
   ],
   "source": [
    "base +\n",
    "geom_point() +\n",
    "theme_linedraw(base_size = 14, base_family = \"\") +\n",
    "scale_T_continuous(name = \"\", limits = c(0,1), breaks = c(0, .5, 1), minor_breaks = NULL, labels = c(\"0\", \"50\", \"100\")) +\n",
    "scale_R_continuous(name = \"\", limits = c(0,1), breaks = c(0, .5, 1), minor_breaks = NULL, labels = c(\"0\", \"50\", \"100\")) +\n",
    "scale_L_continuous(name = \"\", limits = c(0,1), breaks = c(0, .5, 1), minor_breaks = NULL, labels = c(\"0\", \"50\", \"100\")) +\n",
    "Tarrowlab(\"% Rodentia\") + Rarrowlab(\"% Lagomorpha\") + Larrowlab(\"% Artiodactyla\") + theme_showarrows()"
   ]
  },
  {
   "cell_type": "markdown",
   "metadata": {},
   "source": [
    "### This creates a inkscape readable svg file quite simply. Changing size or scale isn't the best idea, apparently, as it doesn't scale the text."
   ]
  },
  {
   "cell_type": "code",
   "execution_count": 8,
   "metadata": {},
   "outputs": [
    {
     "name": "stderr",
     "output_type": "stream",
     "text": [
      "Saving 6.67 x 6.67 in image\n"
     ]
    }
   ],
   "source": [
    "ggsave(\"ternarytest.svg\", device=\"svg\")"
   ]
  },
  {
   "cell_type": "markdown",
   "metadata": {},
   "source": [
    "### The below can be used to create the basic unadorned troika plot - for use in discussion of \"quarters\"."
   ]
  },
  {
   "cell_type": "code",
   "execution_count": 37,
   "metadata": {},
   "outputs": [],
   "source": [
    "df <- data.frame(x=c(1/3,2/3,1/6,1/6), y=c(1/3,1/6,2/3,1/6), z=c(1/3, 1/6, 1/6, 2/3), label=c(\"Mixed\", \"Artiodactyl\", \"Rodent\", \"Lagomorph\"))\n",
    "base = ggtern(df, aes(x, y, z, label = label))\n",
    "qs = base +\n",
    "geom_text(size = 3) + \n",
    "theme_linedraw(base_size = 14, base_family = \"\") +\n",
    "scale_T_continuous(name = \"\", limits = c(0,1), breaks = c(0, .5, 1), minor_breaks = NULL, labels = c(\"0\", \"50\", \"100\")) +\n",
    "scale_R_continuous(name = \"\", limits = c(0,1), breaks = c(0, .5, 1), minor_breaks = NULL, labels = c(\"0\", \"50\", \"100\")) +\n",
    "scale_L_continuous(name = \"\", limits = c(0,1), breaks = c(0, .5, 1), minor_breaks = NULL, labels = c(\"0\", \"50\", \"100\")) +\n",
    "Tarrowlab(\"% Rodentia\") + Rarrowlab(\"% Lagomorpha\") + Larrowlab(\"% Artiodactyla\") + theme_showarrows()"
   ]
  },
  {
   "cell_type": "code",
   "execution_count": 40,
   "metadata": {},
   "outputs": [
    {
     "data": {
      "image/png": "[encoded data removed]",
      "text/plain": [
       "plot without title"
      ]
     },
     "metadata": {},
     "output_type": "display_data"
    }
   ],
   "source": [
    "sidebyside = grid.arrange(qs, qs, nrow=1) #doing this to get the size the same as for the data plots that are also 2-wide"
   ]
  },
  {
   "cell_type": "code",
   "execution_count": 42,
   "metadata": {},
   "outputs": [
    {
     "name": "stderr",
     "output_type": "stream",
     "text": [
      "Saving 6.67 x 6.67 in image\n"
     ]
    }
   ],
   "source": [
    "ggsave(\"quarters.svg\", plot=sidebyside, device=\"svg\")"
   ]
  },
  {
   "cell_type": "markdown",
   "metadata": {},
   "source": [
    "### Quick test of area graphs -- values are being created randomly based on the seed"
   ]
  },
  {
   "cell_type": "code",
   "execution_count": 11,
   "metadata": {},
   "outputs": [],
   "source": [
    "set.seed(234)\n",
    "Sector <- rep(c(\"S01\",\"S02\",\"S03\",\"S04\",\"S05\",\"S06\",\"S07\"),times=7)\n",
    "Year <- as.numeric(rep(c(\"1950\",\"1960\",\"1970\",\"1980\",\"1990\",\"2000\",\"2010\"),each=7))\n",
    "Value <- runif(49, 10, 100)\n",
    "data <- data.frame(Sector,Year,Value)"
   ]
  },
  {
   "cell_type": "code",
   "execution_count": 12,
   "metadata": {},
   "outputs": [
    {
     "data": {},
     "metadata": {},
     "output_type": "display_data"
    },
    {
     "data": {
      "image/png": "[encoded data removed]",
      "text/plain": [
       "plot without title"
      ]
     },
     "metadata": {},
     "output_type": "display_data"
    }
   ],
   "source": [
    "ggplot(data, aes(x=Year, y=Value, fill=Sector)) + geom_area()"
   ]
  },
  {
   "cell_type": "markdown",
   "metadata": {},
   "source": [
    "### Trying to create scatterplot (of fake data) and matching ternary plot"
   ]
  },
  {
   "cell_type": "code",
   "execution_count": 13,
   "metadata": {},
   "outputs": [],
   "source": [
    "X <- runif(20, 0, .9)\n",
    "Y <- sapply(X, function(x) runif(1, 0, 1-x))\n",
    "Z <- 1 - X - Y\n",
    "dftest = data.frame(X, Y, Z)"
   ]
  },
  {
   "cell_type": "code",
   "execution_count": 14,
   "metadata": {},
   "outputs": [
    {
     "data": {
      "text/html": [
       "<table>\n",
       "<thead><tr><th scope=col>X</th><th scope=col>Y</th><th scope=col>Z</th></tr></thead>\n",
       "<tbody>\n",
       "\t<tr><td>0.11367714</td><td>0.53371826</td><td>0.35260460</td></tr>\n",
       "\t<tr><td>0.57150152</td><td>0.39971307</td><td>0.02878541</td></tr>\n",
       "\t<tr><td>0.34197938</td><td>0.22805023</td><td>0.42997040</td></tr>\n",
       "\t<tr><td>0.13852059</td><td>0.50448352</td><td>0.35699589</td></tr>\n",
       "\t<tr><td>0.72695794</td><td>0.08532949</td><td>0.18771258</td></tr>\n",
       "\t<tr><td>0.07110104</td><td>0.06262000</td><td>0.86627896</td></tr>\n",
       "</tbody>\n",
       "</table>\n"
      ],
      "text/latex": [
       "\\begin{tabular}{r|lll}\n",
       " X & Y & Z\\\\\n",
       "\\hline\n",
       "\t 0.11367714 & 0.53371826 & 0.35260460\\\\\n",
       "\t 0.57150152 & 0.39971307 & 0.02878541\\\\\n",
       "\t 0.34197938 & 0.22805023 & 0.42997040\\\\\n",
       "\t 0.13852059 & 0.50448352 & 0.35699589\\\\\n",
       "\t 0.72695794 & 0.08532949 & 0.18771258\\\\\n",
       "\t 0.07110104 & 0.06262000 & 0.86627896\\\\\n",
       "\\end{tabular}\n"
      ],
      "text/markdown": [
       "\n",
       "X | Y | Z | \n",
       "|---|---|---|---|---|---|\n",
       "| 0.11367714 | 0.53371826 | 0.35260460 | \n",
       "| 0.57150152 | 0.39971307 | 0.02878541 | \n",
       "| 0.34197938 | 0.22805023 | 0.42997040 | \n",
       "| 0.13852059 | 0.50448352 | 0.35699589 | \n",
       "| 0.72695794 | 0.08532949 | 0.18771258 | \n",
       "| 0.07110104 | 0.06262000 | 0.86627896 | \n",
       "\n",
       "\n"
      ],
      "text/plain": [
       "  X          Y          Z         \n",
       "1 0.11367714 0.53371826 0.35260460\n",
       "2 0.57150152 0.39971307 0.02878541\n",
       "3 0.34197938 0.22805023 0.42997040\n",
       "4 0.13852059 0.50448352 0.35699589\n",
       "5 0.72695794 0.08532949 0.18771258\n",
       "6 0.07110104 0.06262000 0.86627896"
      ]
     },
     "metadata": {},
     "output_type": "display_data"
    }
   ],
   "source": [
    "head(dftest)"
   ]
  },
  {
   "cell_type": "code",
   "execution_count": 15,
   "metadata": {},
   "outputs": [
    {
     "name": "stderr",
     "output_type": "stream",
     "text": [
      "Scale for 'y' is already present. Adding another scale for 'y', which will\n",
      "replace the existing scale.\n",
      "Scale for 'x' is already present. Adding another scale for 'x', which will\n",
      "replace the existing scale.\n"
     ]
    }
   ],
   "source": [
    "plotXY <- ggplot(dftest, aes(x=X, y=Y, size=2)) + theme_bw() + geom_point() + xlim(0, 1) + ylim(0, 1) +\n",
    "  theme_linedraw(base_size = 14, base_family = \"\") +\n",
    "  scale_size_identity() + \n",
    "  coord_fixed() +\n",
    "  scale_y_continuous(name = \"% Y\", limits = c(0,1), breaks = c(0, .5, 1), minor_breaks = NULL, labels = c(\"0\", \"50\", \"100\")) +\n",
    "  scale_x_continuous(name = \"% X\", limits = c(0,1), breaks = c(0, .5, 1), minor_breaks = NULL, labels = c(\"0\", \"50\", \"100\")) +\n",
    "  theme(panel.border = element_blank())"
   ]
  },
  {
   "cell_type": "code",
   "execution_count": 16,
   "metadata": {},
   "outputs": [],
   "source": [
    "plotTernary <- ggtern(data=dftest,aes(Z, Y, X, size=2)) + scale_size_identity() +\n",
    "theme_linedraw(base_size = 14, base_family = \"\") +\n",
    "scale_T_continuous(name = \"\", limits = c(0,1), breaks = c(0, .5, 1), minor_breaks = NULL, labels = c(\"0\", \"50\", \"100\")) +\n",
    "scale_R_continuous(name = \"\", limits = c(0,1), breaks = c(0, .5, 1), minor_breaks = NULL, labels = c(\"0\", \"50\", \"100\")) +\n",
    "scale_L_continuous(name = \"\", limits = c(0,1), breaks = c(0, .5, 1), minor_breaks = NULL, labels = c(\"0\", \"50\", \"100\")) +\n",
    "Tarrowlab(\"% Y\") + Rarrowlab(\"% X\") + Larrowlab(\"% Z\") + theme_showarrows() + \n",
    "geom_point()\n"
   ]
  },
  {
   "cell_type": "code",
   "execution_count": 17,
   "metadata": {},
   "outputs": [
    {
     "data": {
      "image/png": "[encoded data removed]",
      "text/plain": [
       "plot without title"
      ]
     },
     "metadata": {},
     "output_type": "display_data"
    }
   ],
   "source": [
    "sidebyside = grid.arrange(plotXY, plotTernary, nrow=1)"
   ]
  },
  {
   "cell_type": "code",
   "execution_count": 106,
   "metadata": {},
   "outputs": [
    {
     "name": "stderr",
     "output_type": "stream",
     "text": [
      "Saving 6.67 x 6.67 in image\n"
     ]
    }
   ],
   "source": [
    "ggsave(\"xy-ternary_comparison.svg\", plot=sidebyside, device=\"svg\")"
   ]
  },
  {
   "cell_type": "markdown",
   "metadata": {},
   "source": [
    "## CRITICAL\n",
    "### Note that to make the x and y axes \"match\" requires feeding ggtern the z axis in the x position!\n"
   ]
  },
  {
   "cell_type": "code",
   "execution_count": null,
   "metadata": {},
   "outputs": [],
   "source": []
  },
  {
   "cell_type": "markdown",
   "metadata": {},
   "source": [
    "# Random Testing Area"
   ]
  },
  {
   "cell_type": "code",
   "execution_count": null,
   "metadata": {},
   "outputs": [],
   "source": [
    "(sizes <- expand.grid(size = (0:3) * 2, stroke = (0:3) * 2))"
   ]
  },
  {
   "cell_type": "code",
   "execution_count": null,
   "metadata": {},
   "outputs": [],
   "source": [
    "ggplot(sizes, aes(size, stroke, size = 1, stroke = stroke)) + \n",
    "  geom_point(shape = 21, fill = \"red\") +\n",
    "  scale_size_identity()"
   ]
  },
  {
   "cell_type": "code",
   "execution_count": null,
   "metadata": {},
   "outputs": [],
   "source": [
    "testData"
   ]
  },
  {
   "cell_type": "code",
   "execution_count": null,
   "metadata": {},
   "outputs": [],
   "source": []
  }
 ],
 "metadata": {
  "kernelspec": {
   "display_name": "R",
   "language": "R",
   "name": "ir"
  },
  "language_info": {
   "codemirror_mode": "r",
   "file_extension": ".r",
   "mimetype": "text/x-r-source",
   "name": "R",
   "pygments_lexer": "r",
   "version": "3.5.1"
  }
 },
 "nbformat": 4,
 "nbformat_minor": 2
}
